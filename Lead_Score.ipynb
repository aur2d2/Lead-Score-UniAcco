{
 "cells": [
  {
   "cell_type": "code",
   "execution_count": 148,
   "id": "109d0759",
   "metadata": {},
   "outputs": [],
   "source": [
    "import pandas as pd\n",
    "import numpy as np\n",
    "import matplotlib.pyplot as plt\n",
    "import seaborn as sns"
   ]
  },
  {
   "cell_type": "code",
   "execution_count": 149,
   "id": "2811f3bf",
   "metadata": {},
   "outputs": [],
   "source": [
    "from sklearn.model_selection import train_test_split\n",
    "from sklearn.preprocessing import StandardScaler\n",
    "import statsmodels.api as sm\n",
    "from statsmodels.stats.outliers_influence import variance_inflation_factor\n",
    "from sklearn.linear_model import LogisticRegression\n",
    "from sklearn.feature_selection import RFE"
   ]
  },
  {
   "cell_type": "code",
   "execution_count": 150,
   "id": "7607e8b2",
   "metadata": {},
   "outputs": [],
   "source": [
    "from sklearn import metrics\n",
    "from sklearn.metrics  import confusion_matrix\n",
    "from sklearn.metrics  import precision_score\n",
    "from sklearn.metrics  import precision_recall_curve"
   ]
  },
  {
   "cell_type": "code",
   "execution_count": 151,
   "id": "2dc1804e",
   "metadata": {},
   "outputs": [],
   "source": [
    "import warnings\n",
    "warnings.filterwarnings('ignore')\n",
    "\n",
    "plt.style.use(\"ggplot\")"
   ]
  },
  {
   "cell_type": "code",
   "execution_count": 152,
   "id": "56f0d38b",
   "metadata": {},
   "outputs": [],
   "source": [
    "score = pd.read_csv('Data_Science_Internship - Dump.csv')\n",
    "pd.set_option('display.max_columns', None)"
   ]
  },
  {
   "cell_type": "code",
   "execution_count": 153,
   "id": "4404a256",
   "metadata": {},
   "outputs": [
    {
     "data": {
      "text/html": [
       "<div>\n",
       "<style scoped>\n",
       "    .dataframe tbody tr th:only-of-type {\n",
       "        vertical-align: middle;\n",
       "    }\n",
       "\n",
       "    .dataframe tbody tr th {\n",
       "        vertical-align: top;\n",
       "    }\n",
       "\n",
       "    .dataframe thead th {\n",
       "        text-align: right;\n",
       "    }\n",
       "</style>\n",
       "<table border=\"1\" class=\"dataframe\">\n",
       "  <thead>\n",
       "    <tr style=\"text-align: right;\">\n",
       "      <th></th>\n",
       "      <th>Unnamed: 0</th>\n",
       "      <th>Agent_id</th>\n",
       "      <th>status</th>\n",
       "      <th>lost_reason</th>\n",
       "      <th>budget</th>\n",
       "      <th>lease</th>\n",
       "      <th>movein</th>\n",
       "      <th>source</th>\n",
       "      <th>source_city</th>\n",
       "      <th>source_country</th>\n",
       "      <th>utm_source</th>\n",
       "      <th>utm_medium</th>\n",
       "      <th>des_city</th>\n",
       "      <th>des_country</th>\n",
       "      <th>room_type</th>\n",
       "      <th>lead_id</th>\n",
       "    </tr>\n",
       "  </thead>\n",
       "  <tbody>\n",
       "    <tr>\n",
       "      <th>0</th>\n",
       "      <td>0</td>\n",
       "      <td>1deba9e96f404694373de9749ddd1ca8aa7bb823145a6f...</td>\n",
       "      <td>LOST</td>\n",
       "      <td>Not responding</td>\n",
       "      <td>NaN</td>\n",
       "      <td>NaN</td>\n",
       "      <td>NaN</td>\n",
       "      <td>9b2d5b4678781e53038e91ea5324530a03f27dc1d0e5f6...</td>\n",
       "      <td>9b2d5b4678781e53038e91ea5324530a03f27dc1d0e5f6...</td>\n",
       "      <td>9b2d5b4678781e53038e91ea5324530a03f27dc1d0e5f6...</td>\n",
       "      <td>3d59f7548e1af2151b64135003ce63c0a484c26b9b8b16...</td>\n",
       "      <td>268ad70eb5bc4737a2ae28162cbca30118cc94520e49ef...</td>\n",
       "      <td>ecc0e7dc084f141b29479058967d0bc07dee25d9690a98...</td>\n",
       "      <td>8d23a6e37e0a6431a8f1b43a91026dcff51170a89a6512...</td>\n",
       "      <td>NaN</td>\n",
       "      <td>cd5dc0d9393f3980d11d4ba6f88f8110c2b7a7f7796307...</td>\n",
       "    </tr>\n",
       "    <tr>\n",
       "      <th>1</th>\n",
       "      <td>1</td>\n",
       "      <td>299ae77a4ef350ae0dd37d6bba1c002d03444fb1edb236...</td>\n",
       "      <td>LOST</td>\n",
       "      <td>Low budget</td>\n",
       "      <td>NaN</td>\n",
       "      <td>NaN</td>\n",
       "      <td>NaN</td>\n",
       "      <td>9b2d5b4678781e53038e91ea5324530a03f27dc1d0e5f6...</td>\n",
       "      <td>9b2d5b4678781e53038e91ea5324530a03f27dc1d0e5f6...</td>\n",
       "      <td>9b2d5b4678781e53038e91ea5324530a03f27dc1d0e5f6...</td>\n",
       "      <td>3d59f7548e1af2151b64135003ce63c0a484c26b9b8b16...</td>\n",
       "      <td>268ad70eb5bc4737a2ae28162cbca30118cc94520e49ef...</td>\n",
       "      <td>5372372f3bf5896820cb2819300c3e681820d82c6efc54...</td>\n",
       "      <td>8d23a6e37e0a6431a8f1b43a91026dcff51170a89a6512...</td>\n",
       "      <td>NaN</td>\n",
       "      <td>b94693673a5f7178d1b114e4004ad52377d3244dd24a3d...</td>\n",
       "    </tr>\n",
       "    <tr>\n",
       "      <th>2</th>\n",
       "      <td>2</td>\n",
       "      <td>c213697430c006013012dd2aca82dd9732aa0a1a6bca13...</td>\n",
       "      <td>LOST</td>\n",
       "      <td>Not responding</td>\n",
       "      <td>£121 - £180 Per Week</td>\n",
       "      <td>Full Year Course Stay 40 - 44 weeks</td>\n",
       "      <td>31/08/22</td>\n",
       "      <td>7aae3e886e89fc1187a5c47d6cea1c22998ee610ade1f2...</td>\n",
       "      <td>9b8cc3c63cdf447e463c11544924bf027945cbd29675f7...</td>\n",
       "      <td>e09e10e67812e9d236ad900e5d46b4308fc62f5d69446a...</td>\n",
       "      <td>bbdefa2950f49882f295b1285d4fa9dec45fc4144bfb07...</td>\n",
       "      <td>09076eb7665d1fb9389c7c4517fee0b00e43092eb34821...</td>\n",
       "      <td>11ab03a1a8c367191355c152f39fe28cae5e426fce49ef...</td>\n",
       "      <td>8d23a6e37e0a6431a8f1b43a91026dcff51170a89a6512...</td>\n",
       "      <td>Ensuite</td>\n",
       "      <td>96ea4e2bf04496c044745938c0299c264c3f4ba079e572...</td>\n",
       "    </tr>\n",
       "    <tr>\n",
       "      <th>3</th>\n",
       "      <td>3</td>\n",
       "      <td>eac9815a500f908736d303e23aa227f0957177b0e6756b...</td>\n",
       "      <td>LOST</td>\n",
       "      <td>Low budget</td>\n",
       "      <td>0-0</td>\n",
       "      <td>0</td>\n",
       "      <td>NaN</td>\n",
       "      <td>ba2d0a29556ac20f86f45e4543c0825428cba33fd7a9ea...</td>\n",
       "      <td>a5f0d2d08eb0592087e3a3a2f9c1ba2c67cc30f2efd2bd...</td>\n",
       "      <td>e09e10e67812e9d236ad900e5d46b4308fc62f5d69446a...</td>\n",
       "      <td>bbdefa2950f49882f295b1285d4fa9dec45fc4144bfb07...</td>\n",
       "      <td>09076eb7665d1fb9389c7c4517fee0b00e43092eb34821...</td>\n",
       "      <td>19372fa44c57a01c37a5a8418779ca3d99b0b59731fb35...</td>\n",
       "      <td>8d23a6e37e0a6431a8f1b43a91026dcff51170a89a6512...</td>\n",
       "      <td>NaN</td>\n",
       "      <td>1d2b34d8add02a182a4129023766ca4585a8ddced0e5b3...</td>\n",
       "    </tr>\n",
       "    <tr>\n",
       "      <th>4</th>\n",
       "      <td>4</td>\n",
       "      <td>1deba9e96f404694373de9749ddd1ca8aa7bb823145a6f...</td>\n",
       "      <td>LOST</td>\n",
       "      <td>Junk lead</td>\n",
       "      <td>NaN</td>\n",
       "      <td>NaN</td>\n",
       "      <td>NaN</td>\n",
       "      <td>9b2d5b4678781e53038e91ea5324530a03f27dc1d0e5f6...</td>\n",
       "      <td>9b2d5b4678781e53038e91ea5324530a03f27dc1d0e5f6...</td>\n",
       "      <td>9b2d5b4678781e53038e91ea5324530a03f27dc1d0e5f6...</td>\n",
       "      <td>3d59f7548e1af2151b64135003ce63c0a484c26b9b8b16...</td>\n",
       "      <td>268ad70eb5bc4737a2ae28162cbca30118cc94520e49ef...</td>\n",
       "      <td>9b2d5b4678781e53038e91ea5324530a03f27dc1d0e5f6...</td>\n",
       "      <td>9b2d5b4678781e53038e91ea5324530a03f27dc1d0e5f6...</td>\n",
       "      <td>NaN</td>\n",
       "      <td>fc10fffd29cfbe93c55158fb47752a7501c211d253468c...</td>\n",
       "    </tr>\n",
       "  </tbody>\n",
       "</table>\n",
       "</div>"
      ],
      "text/plain": [
       "   Unnamed: 0                                           Agent_id status  \\\n",
       "0           0  1deba9e96f404694373de9749ddd1ca8aa7bb823145a6f...   LOST   \n",
       "1           1  299ae77a4ef350ae0dd37d6bba1c002d03444fb1edb236...   LOST   \n",
       "2           2  c213697430c006013012dd2aca82dd9732aa0a1a6bca13...   LOST   \n",
       "3           3  eac9815a500f908736d303e23aa227f0957177b0e6756b...   LOST   \n",
       "4           4  1deba9e96f404694373de9749ddd1ca8aa7bb823145a6f...   LOST   \n",
       "\n",
       "      lost_reason                budget                                lease  \\\n",
       "0  Not responding                   NaN                                  NaN   \n",
       "1      Low budget                   NaN                                  NaN   \n",
       "2  Not responding  £121 - £180 Per Week  Full Year Course Stay 40 - 44 weeks   \n",
       "3      Low budget                   0-0                                    0   \n",
       "4       Junk lead                   NaN                                  NaN   \n",
       "\n",
       "     movein                                             source  \\\n",
       "0       NaN  9b2d5b4678781e53038e91ea5324530a03f27dc1d0e5f6...   \n",
       "1       NaN  9b2d5b4678781e53038e91ea5324530a03f27dc1d0e5f6...   \n",
       "2  31/08/22  7aae3e886e89fc1187a5c47d6cea1c22998ee610ade1f2...   \n",
       "3       NaN  ba2d0a29556ac20f86f45e4543c0825428cba33fd7a9ea...   \n",
       "4       NaN  9b2d5b4678781e53038e91ea5324530a03f27dc1d0e5f6...   \n",
       "\n",
       "                                         source_city  \\\n",
       "0  9b2d5b4678781e53038e91ea5324530a03f27dc1d0e5f6...   \n",
       "1  9b2d5b4678781e53038e91ea5324530a03f27dc1d0e5f6...   \n",
       "2  9b8cc3c63cdf447e463c11544924bf027945cbd29675f7...   \n",
       "3  a5f0d2d08eb0592087e3a3a2f9c1ba2c67cc30f2efd2bd...   \n",
       "4  9b2d5b4678781e53038e91ea5324530a03f27dc1d0e5f6...   \n",
       "\n",
       "                                      source_country  \\\n",
       "0  9b2d5b4678781e53038e91ea5324530a03f27dc1d0e5f6...   \n",
       "1  9b2d5b4678781e53038e91ea5324530a03f27dc1d0e5f6...   \n",
       "2  e09e10e67812e9d236ad900e5d46b4308fc62f5d69446a...   \n",
       "3  e09e10e67812e9d236ad900e5d46b4308fc62f5d69446a...   \n",
       "4  9b2d5b4678781e53038e91ea5324530a03f27dc1d0e5f6...   \n",
       "\n",
       "                                          utm_source  \\\n",
       "0  3d59f7548e1af2151b64135003ce63c0a484c26b9b8b16...   \n",
       "1  3d59f7548e1af2151b64135003ce63c0a484c26b9b8b16...   \n",
       "2  bbdefa2950f49882f295b1285d4fa9dec45fc4144bfb07...   \n",
       "3  bbdefa2950f49882f295b1285d4fa9dec45fc4144bfb07...   \n",
       "4  3d59f7548e1af2151b64135003ce63c0a484c26b9b8b16...   \n",
       "\n",
       "                                          utm_medium  \\\n",
       "0  268ad70eb5bc4737a2ae28162cbca30118cc94520e49ef...   \n",
       "1  268ad70eb5bc4737a2ae28162cbca30118cc94520e49ef...   \n",
       "2  09076eb7665d1fb9389c7c4517fee0b00e43092eb34821...   \n",
       "3  09076eb7665d1fb9389c7c4517fee0b00e43092eb34821...   \n",
       "4  268ad70eb5bc4737a2ae28162cbca30118cc94520e49ef...   \n",
       "\n",
       "                                            des_city  \\\n",
       "0  ecc0e7dc084f141b29479058967d0bc07dee25d9690a98...   \n",
       "1  5372372f3bf5896820cb2819300c3e681820d82c6efc54...   \n",
       "2  11ab03a1a8c367191355c152f39fe28cae5e426fce49ef...   \n",
       "3  19372fa44c57a01c37a5a8418779ca3d99b0b59731fb35...   \n",
       "4  9b2d5b4678781e53038e91ea5324530a03f27dc1d0e5f6...   \n",
       "\n",
       "                                         des_country room_type  \\\n",
       "0  8d23a6e37e0a6431a8f1b43a91026dcff51170a89a6512...       NaN   \n",
       "1  8d23a6e37e0a6431a8f1b43a91026dcff51170a89a6512...       NaN   \n",
       "2  8d23a6e37e0a6431a8f1b43a91026dcff51170a89a6512...   Ensuite   \n",
       "3  8d23a6e37e0a6431a8f1b43a91026dcff51170a89a6512...       NaN   \n",
       "4  9b2d5b4678781e53038e91ea5324530a03f27dc1d0e5f6...       NaN   \n",
       "\n",
       "                                             lead_id  \n",
       "0  cd5dc0d9393f3980d11d4ba6f88f8110c2b7a7f7796307...  \n",
       "1  b94693673a5f7178d1b114e4004ad52377d3244dd24a3d...  \n",
       "2  96ea4e2bf04496c044745938c0299c264c3f4ba079e572...  \n",
       "3  1d2b34d8add02a182a4129023766ca4585a8ddced0e5b3...  \n",
       "4  fc10fffd29cfbe93c55158fb47752a7501c211d253468c...  "
      ]
     },
     "execution_count": 153,
     "metadata": {},
     "output_type": "execute_result"
    }
   ],
   "source": [
    "score.head()"
   ]
  },
  {
   "cell_type": "code",
   "execution_count": 154,
   "id": "39309d9d",
   "metadata": {},
   "outputs": [
    {
     "name": "stdout",
     "output_type": "stream",
     "text": [
      "<class 'pandas.core.frame.DataFrame'>\n",
      "RangeIndex: 46608 entries, 0 to 46607\n",
      "Data columns (total 16 columns):\n",
      " #   Column          Non-Null Count  Dtype \n",
      "---  ------          --------------  ----- \n",
      " 0   Unnamed: 0      46608 non-null  int64 \n",
      " 1   Agent_id        46608 non-null  object\n",
      " 2   status          46608 non-null  object\n",
      " 3   lost_reason     43244 non-null  object\n",
      " 4   budget          42908 non-null  object\n",
      " 5   lease           44267 non-null  object\n",
      " 6   movein          32970 non-null  object\n",
      " 7   source          46608 non-null  object\n",
      " 8   source_city     46608 non-null  object\n",
      " 9   source_country  46608 non-null  object\n",
      " 10  utm_source      46608 non-null  object\n",
      " 11  utm_medium      46608 non-null  object\n",
      " 12  des_city        46608 non-null  object\n",
      " 13  des_country     46608 non-null  object\n",
      " 14  room_type       23061 non-null  object\n",
      " 15  lead_id         46608 non-null  object\n",
      "dtypes: int64(1), object(15)\n",
      "memory usage: 5.7+ MB\n"
     ]
    }
   ],
   "source": [
    "score.info()"
   ]
  },
  {
   "cell_type": "code",
   "execution_count": 155,
   "id": "e2f32750",
   "metadata": {},
   "outputs": [
    {
     "name": "stdout",
     "output_type": "stream",
     "text": [
      "<class 'pandas.core.frame.DataFrame'>\n",
      "RangeIndex: 46608 entries, 0 to 46607\n",
      "Data columns (total 16 columns):\n",
      " #   Column          Non-Null Count  Dtype \n",
      "---  ------          --------------  ----- \n",
      " 0   Unnamed: 0      46608 non-null  int64 \n",
      " 1   Agent_id        46608 non-null  object\n",
      " 2   status          46608 non-null  object\n",
      " 3   lost_reason     43244 non-null  object\n",
      " 4   budget          42908 non-null  object\n",
      " 5   lease           44267 non-null  object\n",
      " 6   movein          32970 non-null  object\n",
      " 7   source          46608 non-null  object\n",
      " 8   source_city     46608 non-null  object\n",
      " 9   source_country  46608 non-null  object\n",
      " 10  utm_source      46608 non-null  object\n",
      " 11  utm_medium      46608 non-null  object\n",
      " 12  des_city        46608 non-null  object\n",
      " 13  des_country     46608 non-null  object\n",
      " 14  room_type       23061 non-null  object\n",
      " 15  lead_id         46608 non-null  object\n",
      "dtypes: int64(1), object(15)\n",
      "memory usage: 5.7+ MB\n"
     ]
    }
   ],
   "source": [
    "score.info()"
   ]
  },
  {
   "cell_type": "code",
   "execution_count": 156,
   "id": "f9c22ec1",
   "metadata": {},
   "outputs": [
    {
     "data": {
      "text/plain": [
       "Unnamed: 0        0.00\n",
       "Agent_id          0.00\n",
       "status            0.00\n",
       "lost_reason       0.07\n",
       "budget            0.08\n",
       "lease             0.05\n",
       "movein            0.29\n",
       "source            0.00\n",
       "source_city       0.00\n",
       "source_country    0.00\n",
       "utm_source        0.00\n",
       "utm_medium        0.00\n",
       "des_city          0.00\n",
       "des_country       0.00\n",
       "room_type         0.51\n",
       "lead_id           0.00\n",
       "dtype: float64"
      ]
     },
     "execution_count": 156,
     "metadata": {},
     "output_type": "execute_result"
    }
   ],
   "source": [
    "#missing data percentage\n",
    "\n",
    "round(score.isnull().sum()/score.shape[0], 2)"
   ]
  },
  {
   "cell_type": "code",
   "execution_count": 157,
   "id": "624fd112",
   "metadata": {},
   "outputs": [
    {
     "name": "stdout",
     "output_type": "stream",
     "text": [
      "<class 'pandas.core.frame.DataFrame'>\n",
      "RangeIndex: 46608 entries, 0 to 46607\n",
      "Data columns (total 15 columns):\n",
      " #   Column          Non-Null Count  Dtype \n",
      "---  ------          --------------  ----- \n",
      " 0   Agent_id        46608 non-null  object\n",
      " 1   status          46608 non-null  object\n",
      " 2   lost_reason     43244 non-null  object\n",
      " 3   budget          42908 non-null  object\n",
      " 4   lease           44267 non-null  object\n",
      " 5   movein          32970 non-null  object\n",
      " 6   source          46608 non-null  object\n",
      " 7   source_city     46608 non-null  object\n",
      " 8   source_country  46608 non-null  object\n",
      " 9   utm_source      46608 non-null  object\n",
      " 10  utm_medium      46608 non-null  object\n",
      " 11  des_city        46608 non-null  object\n",
      " 12  des_country     46608 non-null  object\n",
      " 13  room_type       23061 non-null  object\n",
      " 14  lead_id         46608 non-null  object\n",
      "dtypes: object(15)\n",
      "memory usage: 5.3+ MB\n"
     ]
    }
   ],
   "source": [
    "score.select_dtypes(include='object').info()"
   ]
  },
  {
   "cell_type": "code",
   "execution_count": 158,
   "id": "2e5094d4",
   "metadata": {},
   "outputs": [],
   "source": [
    "score = score.replace('9b2d5b4678781e53038e91ea5324530a03f27dc1d0e5f6c9bc9d493a23be9de0', np.nan)"
   ]
  },
  {
   "cell_type": "code",
   "execution_count": 159,
   "id": "ffb32a0d",
   "metadata": {},
   "outputs": [
    {
     "name": "stdout",
     "output_type": "stream",
     "text": [
      "<class 'pandas.core.frame.DataFrame'>\n",
      "RangeIndex: 46608 entries, 0 to 46607\n",
      "Data columns (total 16 columns):\n",
      " #   Column          Non-Null Count  Dtype \n",
      "---  ------          --------------  ----- \n",
      " 0   Unnamed: 0      46608 non-null  int64 \n",
      " 1   Agent_id        46608 non-null  object\n",
      " 2   status          46608 non-null  object\n",
      " 3   lost_reason     43244 non-null  object\n",
      " 4   budget          42908 non-null  object\n",
      " 5   lease           44267 non-null  object\n",
      " 6   movein          32970 non-null  object\n",
      " 7   source          40631 non-null  object\n",
      " 8   source_city     37757 non-null  object\n",
      " 9   source_country  37967 non-null  object\n",
      " 10  utm_source      46547 non-null  object\n",
      " 11  utm_medium      43421 non-null  object\n",
      " 12  des_city        44071 non-null  object\n",
      " 13  des_country     44071 non-null  object\n",
      " 14  room_type       23061 non-null  object\n",
      " 15  lead_id         46608 non-null  object\n",
      "dtypes: int64(1), object(15)\n",
      "memory usage: 5.7+ MB\n"
     ]
    }
   ],
   "source": [
    "score.info()"
   ]
  },
  {
   "cell_type": "code",
   "execution_count": 160,
   "id": "90288311",
   "metadata": {},
   "outputs": [],
   "source": [
    "#dropping columns that have more than 70% of null values\n",
    "\n",
    "score = score.drop(score.loc[:,list(round(score.isnull().sum()/score.shape[0], 2)>0.70)].columns, 1)"
   ]
  },
  {
   "cell_type": "code",
   "execution_count": 161,
   "id": "9bc6dd18",
   "metadata": {},
   "outputs": [
    {
     "name": "stdout",
     "output_type": "stream",
     "text": [
      "<class 'pandas.core.frame.DataFrame'>\n",
      "RangeIndex: 46608 entries, 0 to 46607\n",
      "Data columns (total 16 columns):\n",
      " #   Column          Non-Null Count  Dtype \n",
      "---  ------          --------------  ----- \n",
      " 0   Unnamed: 0      46608 non-null  int64 \n",
      " 1   Agent_id        46608 non-null  object\n",
      " 2   status          46608 non-null  object\n",
      " 3   lost_reason     43244 non-null  object\n",
      " 4   budget          42908 non-null  object\n",
      " 5   lease           44267 non-null  object\n",
      " 6   movein          32970 non-null  object\n",
      " 7   source          40631 non-null  object\n",
      " 8   source_city     37757 non-null  object\n",
      " 9   source_country  37967 non-null  object\n",
      " 10  utm_source      46547 non-null  object\n",
      " 11  utm_medium      43421 non-null  object\n",
      " 12  des_city        44071 non-null  object\n",
      " 13  des_country     44071 non-null  object\n",
      " 14  room_type       23061 non-null  object\n",
      " 15  lead_id         46608 non-null  object\n",
      "dtypes: int64(1), object(15)\n",
      "memory usage: 5.7+ MB\n"
     ]
    }
   ],
   "source": [
    "score.info()"
   ]
  },
  {
   "cell_type": "code",
   "execution_count": 162,
   "id": "2d4690d8",
   "metadata": {},
   "outputs": [
    {
     "data": {
      "text/plain": [
       "Unnamed: 0         0.00\n",
       "Agent_id           0.00\n",
       "status             0.00\n",
       "lost_reason        7.22\n",
       "budget             7.94\n",
       "lease              5.02\n",
       "movein            29.26\n",
       "source            12.82\n",
       "source_city       18.99\n",
       "source_country    18.54\n",
       "utm_source         0.13\n",
       "utm_medium         6.84\n",
       "des_city           5.44\n",
       "des_country        5.44\n",
       "room_type         50.52\n",
       "lead_id            0.00\n",
       "dtype: float64"
      ]
     },
     "execution_count": 162,
     "metadata": {},
     "output_type": "execute_result"
    }
   ],
   "source": [
    "round(100*(score.isnull().sum()/len(score.index)),2)"
   ]
  },
  {
   "cell_type": "code",
   "execution_count": 163,
   "id": "4d873956",
   "metadata": {},
   "outputs": [],
   "source": [
    "#dropping the movein and room_type columns due to high volumes of missing data\n",
    "\n",
    "score = score.drop(['movein','room_type'], 1)"
   ]
  },
  {
   "cell_type": "code",
   "execution_count": 164,
   "id": "5b8f5183",
   "metadata": {},
   "outputs": [
    {
     "data": {
      "text/plain": [
       "Unnamed: 0         0.00\n",
       "Agent_id           0.00\n",
       "status             0.00\n",
       "lost_reason        7.22\n",
       "budget             7.94\n",
       "lease              5.02\n",
       "source            12.82\n",
       "source_city       18.99\n",
       "source_country    18.54\n",
       "utm_source         0.13\n",
       "utm_medium         6.84\n",
       "des_city           5.44\n",
       "des_country        5.44\n",
       "lead_id            0.00\n",
       "dtype: float64"
      ]
     },
     "execution_count": 164,
     "metadata": {},
     "output_type": "execute_result"
    }
   ],
   "source": [
    "round(100*(score.isnull().sum()/len(score.index)),2)"
   ]
  },
  {
   "cell_type": "code",
   "execution_count": 165,
   "id": "c121f930",
   "metadata": {},
   "outputs": [
    {
     "name": "stdout",
     "output_type": "stream",
     "text": [
      "<class 'pandas.core.frame.DataFrame'>\n",
      "RangeIndex: 46608 entries, 0 to 46607\n",
      "Data columns (total 14 columns):\n",
      " #   Column          Non-Null Count  Dtype \n",
      "---  ------          --------------  ----- \n",
      " 0   Unnamed: 0      46608 non-null  int64 \n",
      " 1   Agent_id        46608 non-null  object\n",
      " 2   status          46608 non-null  object\n",
      " 3   lost_reason     43244 non-null  object\n",
      " 4   budget          42908 non-null  object\n",
      " 5   lease           44267 non-null  object\n",
      " 6   source          40631 non-null  object\n",
      " 7   source_city     37757 non-null  object\n",
      " 8   source_country  37967 non-null  object\n",
      " 9   utm_source      46547 non-null  object\n",
      " 10  utm_medium      43421 non-null  object\n",
      " 11  des_city        44071 non-null  object\n",
      " 12  des_country     44071 non-null  object\n",
      " 13  lead_id         46608 non-null  object\n",
      "dtypes: int64(1), object(13)\n",
      "memory usage: 5.0+ MB\n"
     ]
    }
   ],
   "source": [
    "score.info()"
   ]
  },
  {
   "cell_type": "code",
   "execution_count": 166,
   "id": "66a09d0c",
   "metadata": {},
   "outputs": [
    {
     "data": {
      "text/html": [
       "<div>\n",
       "<style scoped>\n",
       "    .dataframe tbody tr th:only-of-type {\n",
       "        vertical-align: middle;\n",
       "    }\n",
       "\n",
       "    .dataframe tbody tr th {\n",
       "        vertical-align: top;\n",
       "    }\n",
       "\n",
       "    .dataframe thead th {\n",
       "        text-align: right;\n",
       "    }\n",
       "</style>\n",
       "<table border=\"1\" class=\"dataframe\">\n",
       "  <thead>\n",
       "    <tr style=\"text-align: right;\">\n",
       "      <th></th>\n",
       "      <th>Unnamed: 0</th>\n",
       "      <th>Agent_id</th>\n",
       "      <th>status</th>\n",
       "      <th>lost_reason</th>\n",
       "      <th>budget</th>\n",
       "      <th>lease</th>\n",
       "      <th>source</th>\n",
       "      <th>source_city</th>\n",
       "      <th>source_country</th>\n",
       "      <th>utm_source</th>\n",
       "      <th>utm_medium</th>\n",
       "      <th>des_city</th>\n",
       "      <th>des_country</th>\n",
       "      <th>lead_id</th>\n",
       "    </tr>\n",
       "  </thead>\n",
       "  <tbody>\n",
       "    <tr>\n",
       "      <th>0</th>\n",
       "      <td>0</td>\n",
       "      <td>1deba9e96f404694373de9749ddd1ca8aa7bb823145a6f...</td>\n",
       "      <td>LOST</td>\n",
       "      <td>Not responding</td>\n",
       "      <td>NaN</td>\n",
       "      <td>NaN</td>\n",
       "      <td>NaN</td>\n",
       "      <td>NaN</td>\n",
       "      <td>NaN</td>\n",
       "      <td>3d59f7548e1af2151b64135003ce63c0a484c26b9b8b16...</td>\n",
       "      <td>268ad70eb5bc4737a2ae28162cbca30118cc94520e49ef...</td>\n",
       "      <td>ecc0e7dc084f141b29479058967d0bc07dee25d9690a98...</td>\n",
       "      <td>8d23a6e37e0a6431a8f1b43a91026dcff51170a89a6512...</td>\n",
       "      <td>cd5dc0d9393f3980d11d4ba6f88f8110c2b7a7f7796307...</td>\n",
       "    </tr>\n",
       "    <tr>\n",
       "      <th>1</th>\n",
       "      <td>1</td>\n",
       "      <td>299ae77a4ef350ae0dd37d6bba1c002d03444fb1edb236...</td>\n",
       "      <td>LOST</td>\n",
       "      <td>Low budget</td>\n",
       "      <td>NaN</td>\n",
       "      <td>NaN</td>\n",
       "      <td>NaN</td>\n",
       "      <td>NaN</td>\n",
       "      <td>NaN</td>\n",
       "      <td>3d59f7548e1af2151b64135003ce63c0a484c26b9b8b16...</td>\n",
       "      <td>268ad70eb5bc4737a2ae28162cbca30118cc94520e49ef...</td>\n",
       "      <td>5372372f3bf5896820cb2819300c3e681820d82c6efc54...</td>\n",
       "      <td>8d23a6e37e0a6431a8f1b43a91026dcff51170a89a6512...</td>\n",
       "      <td>b94693673a5f7178d1b114e4004ad52377d3244dd24a3d...</td>\n",
       "    </tr>\n",
       "    <tr>\n",
       "      <th>2</th>\n",
       "      <td>2</td>\n",
       "      <td>c213697430c006013012dd2aca82dd9732aa0a1a6bca13...</td>\n",
       "      <td>LOST</td>\n",
       "      <td>Not responding</td>\n",
       "      <td>£121 - £180 Per Week</td>\n",
       "      <td>Full Year Course Stay 40 - 44 weeks</td>\n",
       "      <td>7aae3e886e89fc1187a5c47d6cea1c22998ee610ade1f2...</td>\n",
       "      <td>9b8cc3c63cdf447e463c11544924bf027945cbd29675f7...</td>\n",
       "      <td>e09e10e67812e9d236ad900e5d46b4308fc62f5d69446a...</td>\n",
       "      <td>bbdefa2950f49882f295b1285d4fa9dec45fc4144bfb07...</td>\n",
       "      <td>09076eb7665d1fb9389c7c4517fee0b00e43092eb34821...</td>\n",
       "      <td>11ab03a1a8c367191355c152f39fe28cae5e426fce49ef...</td>\n",
       "      <td>8d23a6e37e0a6431a8f1b43a91026dcff51170a89a6512...</td>\n",
       "      <td>96ea4e2bf04496c044745938c0299c264c3f4ba079e572...</td>\n",
       "    </tr>\n",
       "    <tr>\n",
       "      <th>3</th>\n",
       "      <td>3</td>\n",
       "      <td>eac9815a500f908736d303e23aa227f0957177b0e6756b...</td>\n",
       "      <td>LOST</td>\n",
       "      <td>Low budget</td>\n",
       "      <td>0-0</td>\n",
       "      <td>0</td>\n",
       "      <td>ba2d0a29556ac20f86f45e4543c0825428cba33fd7a9ea...</td>\n",
       "      <td>a5f0d2d08eb0592087e3a3a2f9c1ba2c67cc30f2efd2bd...</td>\n",
       "      <td>e09e10e67812e9d236ad900e5d46b4308fc62f5d69446a...</td>\n",
       "      <td>bbdefa2950f49882f295b1285d4fa9dec45fc4144bfb07...</td>\n",
       "      <td>09076eb7665d1fb9389c7c4517fee0b00e43092eb34821...</td>\n",
       "      <td>19372fa44c57a01c37a5a8418779ca3d99b0b59731fb35...</td>\n",
       "      <td>8d23a6e37e0a6431a8f1b43a91026dcff51170a89a6512...</td>\n",
       "      <td>1d2b34d8add02a182a4129023766ca4585a8ddced0e5b3...</td>\n",
       "    </tr>\n",
       "    <tr>\n",
       "      <th>4</th>\n",
       "      <td>4</td>\n",
       "      <td>1deba9e96f404694373de9749ddd1ca8aa7bb823145a6f...</td>\n",
       "      <td>LOST</td>\n",
       "      <td>Junk lead</td>\n",
       "      <td>NaN</td>\n",
       "      <td>NaN</td>\n",
       "      <td>NaN</td>\n",
       "      <td>NaN</td>\n",
       "      <td>NaN</td>\n",
       "      <td>3d59f7548e1af2151b64135003ce63c0a484c26b9b8b16...</td>\n",
       "      <td>268ad70eb5bc4737a2ae28162cbca30118cc94520e49ef...</td>\n",
       "      <td>NaN</td>\n",
       "      <td>NaN</td>\n",
       "      <td>fc10fffd29cfbe93c55158fb47752a7501c211d253468c...</td>\n",
       "    </tr>\n",
       "  </tbody>\n",
       "</table>\n",
       "</div>"
      ],
      "text/plain": [
       "   Unnamed: 0                                           Agent_id status  \\\n",
       "0           0  1deba9e96f404694373de9749ddd1ca8aa7bb823145a6f...   LOST   \n",
       "1           1  299ae77a4ef350ae0dd37d6bba1c002d03444fb1edb236...   LOST   \n",
       "2           2  c213697430c006013012dd2aca82dd9732aa0a1a6bca13...   LOST   \n",
       "3           3  eac9815a500f908736d303e23aa227f0957177b0e6756b...   LOST   \n",
       "4           4  1deba9e96f404694373de9749ddd1ca8aa7bb823145a6f...   LOST   \n",
       "\n",
       "      lost_reason                budget                                lease  \\\n",
       "0  Not responding                   NaN                                  NaN   \n",
       "1      Low budget                   NaN                                  NaN   \n",
       "2  Not responding  £121 - £180 Per Week  Full Year Course Stay 40 - 44 weeks   \n",
       "3      Low budget                   0-0                                    0   \n",
       "4       Junk lead                   NaN                                  NaN   \n",
       "\n",
       "                                              source  \\\n",
       "0                                                NaN   \n",
       "1                                                NaN   \n",
       "2  7aae3e886e89fc1187a5c47d6cea1c22998ee610ade1f2...   \n",
       "3  ba2d0a29556ac20f86f45e4543c0825428cba33fd7a9ea...   \n",
       "4                                                NaN   \n",
       "\n",
       "                                         source_city  \\\n",
       "0                                                NaN   \n",
       "1                                                NaN   \n",
       "2  9b8cc3c63cdf447e463c11544924bf027945cbd29675f7...   \n",
       "3  a5f0d2d08eb0592087e3a3a2f9c1ba2c67cc30f2efd2bd...   \n",
       "4                                                NaN   \n",
       "\n",
       "                                      source_country  \\\n",
       "0                                                NaN   \n",
       "1                                                NaN   \n",
       "2  e09e10e67812e9d236ad900e5d46b4308fc62f5d69446a...   \n",
       "3  e09e10e67812e9d236ad900e5d46b4308fc62f5d69446a...   \n",
       "4                                                NaN   \n",
       "\n",
       "                                          utm_source  \\\n",
       "0  3d59f7548e1af2151b64135003ce63c0a484c26b9b8b16...   \n",
       "1  3d59f7548e1af2151b64135003ce63c0a484c26b9b8b16...   \n",
       "2  bbdefa2950f49882f295b1285d4fa9dec45fc4144bfb07...   \n",
       "3  bbdefa2950f49882f295b1285d4fa9dec45fc4144bfb07...   \n",
       "4  3d59f7548e1af2151b64135003ce63c0a484c26b9b8b16...   \n",
       "\n",
       "                                          utm_medium  \\\n",
       "0  268ad70eb5bc4737a2ae28162cbca30118cc94520e49ef...   \n",
       "1  268ad70eb5bc4737a2ae28162cbca30118cc94520e49ef...   \n",
       "2  09076eb7665d1fb9389c7c4517fee0b00e43092eb34821...   \n",
       "3  09076eb7665d1fb9389c7c4517fee0b00e43092eb34821...   \n",
       "4  268ad70eb5bc4737a2ae28162cbca30118cc94520e49ef...   \n",
       "\n",
       "                                            des_city  \\\n",
       "0  ecc0e7dc084f141b29479058967d0bc07dee25d9690a98...   \n",
       "1  5372372f3bf5896820cb2819300c3e681820d82c6efc54...   \n",
       "2  11ab03a1a8c367191355c152f39fe28cae5e426fce49ef...   \n",
       "3  19372fa44c57a01c37a5a8418779ca3d99b0b59731fb35...   \n",
       "4                                                NaN   \n",
       "\n",
       "                                         des_country  \\\n",
       "0  8d23a6e37e0a6431a8f1b43a91026dcff51170a89a6512...   \n",
       "1  8d23a6e37e0a6431a8f1b43a91026dcff51170a89a6512...   \n",
       "2  8d23a6e37e0a6431a8f1b43a91026dcff51170a89a6512...   \n",
       "3  8d23a6e37e0a6431a8f1b43a91026dcff51170a89a6512...   \n",
       "4                                                NaN   \n",
       "\n",
       "                                             lead_id  \n",
       "0  cd5dc0d9393f3980d11d4ba6f88f8110c2b7a7f7796307...  \n",
       "1  b94693673a5f7178d1b114e4004ad52377d3244dd24a3d...  \n",
       "2  96ea4e2bf04496c044745938c0299c264c3f4ba079e572...  \n",
       "3  1d2b34d8add02a182a4129023766ca4585a8ddced0e5b3...  \n",
       "4  fc10fffd29cfbe93c55158fb47752a7501c211d253468c...  "
      ]
     },
     "execution_count": 166,
     "metadata": {},
     "output_type": "execute_result"
    }
   ],
   "source": [
    "v = score[score[\"status\"].str.contains('WON|LOST')]\n",
    "v.head()"
   ]
  },
  {
   "cell_type": "markdown",
   "id": "f7db14c3",
   "metadata": {},
   "source": [
    "# Exploratory Data Analysis"
   ]
  },
  {
   "cell_type": "code",
   "execution_count": 167,
   "id": "e0fe0c54",
   "metadata": {},
   "outputs": [
    {
     "data": {
      "text/plain": [
       "LOST    0.933653\n",
       "WON     0.066347\n",
       "Name: status, dtype: float64"
      ]
     },
     "execution_count": 167,
     "metadata": {},
     "output_type": "execute_result"
    }
   ],
   "source": [
    "# checking data imbalance in target variable\n",
    "\n",
    "v[\"status\"].value_counts(normalize=True)"
   ]
  },
  {
   "cell_type": "code",
   "execution_count": 168,
   "id": "6888f183",
   "metadata": {},
   "outputs": [
    {
     "name": "stdout",
     "output_type": "stream",
     "text": [
      "<class 'pandas.core.frame.DataFrame'>\n",
      "Int64Index: 46317 entries, 0 to 46607\n",
      "Data columns (total 14 columns):\n",
      " #   Column          Non-Null Count  Dtype \n",
      "---  ------          --------------  ----- \n",
      " 0   Unnamed: 0      46317 non-null  int64 \n",
      " 1   Agent_id        46317 non-null  object\n",
      " 2   status          46317 non-null  object\n",
      " 3   lost_reason     43244 non-null  object\n",
      " 4   budget          42623 non-null  object\n",
      " 5   lease           43981 non-null  object\n",
      " 6   source          40366 non-null  object\n",
      " 7   source_city     37486 non-null  object\n",
      " 8   source_country  37695 non-null  object\n",
      " 9   utm_source      46256 non-null  object\n",
      " 10  utm_medium      43133 non-null  object\n",
      " 11  des_city        43788 non-null  object\n",
      " 12  des_country     43788 non-null  object\n",
      " 13  lead_id         46317 non-null  object\n",
      "dtypes: int64(1), object(13)\n",
      "memory usage: 5.3+ MB\n"
     ]
    }
   ],
   "source": [
    "v.info()"
   ]
  },
  {
   "cell_type": "code",
   "execution_count": 169,
   "id": "a1d535f9",
   "metadata": {},
   "outputs": [
    {
     "data": {
      "image/png": "[encoded data removed]",
      "text/plain": [
       "<Figure size 864x864 with 1 Axes>"
      ]
     },
     "metadata": {},
     "output_type": "display_data"
    }
   ],
   "source": [
    "fig = plt.subplots(figsize=(12,12))\n",
    "\n",
    "for i, feature in enumerate(['source']):\n",
    "    plt.subplot(3,3,i+1)\n",
    "    plt.subplots_adjust(hspace = 2.0)\n",
    "    sns.countplot(v[feature], hue=v[\"status\"])\n",
    "    plt.xticks(rotation=90)\n",
    "    plt.tight_layout()"
   ]
  },
  {
   "cell_type": "code",
   "execution_count": 170,
   "id": "86aac3da",
   "metadata": {},
   "outputs": [
    {
     "data": {
      "image/png": "[encoded data removed]",
      "text/plain": [
       "<Figure size 720x432 with 1 Axes>"
      ]
     },
     "metadata": {},
     "output_type": "display_data"
    }
   ],
   "source": [
    "fig=plt.subplots(figsize=(10, 6))\n",
    "\n",
    "for i, feature in enumerate([\"lease\"]):\n",
    "    plt.subplot(2, 2, i+1)\n",
    "    plt.subplots_adjust(hspace = 2.0)\n",
    "    sns.countplot(x=feature, hue=\"status\", data=v)\n",
    "    plt.xticks( rotation='vertical')\n",
    "    plt.tight_layout()"
   ]
  },
  {
   "cell_type": "markdown",
   "id": "d727026e",
   "metadata": {},
   "source": [
    "**we should target the leads who have selected the lease term for the full course time"
   ]
  },
  {
   "cell_type": "markdown",
   "id": "3a672008",
   "metadata": {},
   "source": [
    "# Train  test split"
   ]
  },
  {
   "cell_type": "code",
   "execution_count": 171,
   "id": "c6636b32",
   "metadata": {},
   "outputs": [
    {
     "name": "stdout",
     "output_type": "stream",
     "text": [
      "0        LOST\n",
      "1        LOST\n",
      "2        LOST\n",
      "3        LOST\n",
      "4        LOST\n",
      "         ... \n",
      "46603    LOST\n",
      "46604    LOST\n",
      "46605    LOST\n",
      "46606    LOST\n",
      "46607    LOST\n",
      "Name: status, Length: 46317, dtype: object\n"
     ]
    },
    {
     "data": {
      "text/html": [
       "<div>\n",
       "<style scoped>\n",
       "    .dataframe tbody tr th:only-of-type {\n",
       "        vertical-align: middle;\n",
       "    }\n",
       "\n",
       "    .dataframe tbody tr th {\n",
       "        vertical-align: top;\n",
       "    }\n",
       "\n",
       "    .dataframe thead th {\n",
       "        text-align: right;\n",
       "    }\n",
       "</style>\n",
       "<table border=\"1\" class=\"dataframe\">\n",
       "  <thead>\n",
       "    <tr style=\"text-align: right;\">\n",
       "      <th></th>\n",
       "      <th>Unnamed: 0</th>\n",
       "      <th>Agent_id</th>\n",
       "      <th>lost_reason</th>\n",
       "      <th>budget</th>\n",
       "      <th>lease</th>\n",
       "      <th>source</th>\n",
       "      <th>source_city</th>\n",
       "      <th>source_country</th>\n",
       "      <th>utm_source</th>\n",
       "      <th>utm_medium</th>\n",
       "      <th>des_city</th>\n",
       "      <th>des_country</th>\n",
       "    </tr>\n",
       "  </thead>\n",
       "  <tbody>\n",
       "    <tr>\n",
       "      <th>0</th>\n",
       "      <td>0</td>\n",
       "      <td>1deba9e96f404694373de9749ddd1ca8aa7bb823145a6f...</td>\n",
       "      <td>Not responding</td>\n",
       "      <td>NaN</td>\n",
       "      <td>NaN</td>\n",
       "      <td>NaN</td>\n",
       "      <td>NaN</td>\n",
       "      <td>NaN</td>\n",
       "      <td>3d59f7548e1af2151b64135003ce63c0a484c26b9b8b16...</td>\n",
       "      <td>268ad70eb5bc4737a2ae28162cbca30118cc94520e49ef...</td>\n",
       "      <td>ecc0e7dc084f141b29479058967d0bc07dee25d9690a98...</td>\n",
       "      <td>8d23a6e37e0a6431a8f1b43a91026dcff51170a89a6512...</td>\n",
       "    </tr>\n",
       "    <tr>\n",
       "      <th>1</th>\n",
       "      <td>1</td>\n",
       "      <td>299ae77a4ef350ae0dd37d6bba1c002d03444fb1edb236...</td>\n",
       "      <td>Low budget</td>\n",
       "      <td>NaN</td>\n",
       "      <td>NaN</td>\n",
       "      <td>NaN</td>\n",
       "      <td>NaN</td>\n",
       "      <td>NaN</td>\n",
       "      <td>3d59f7548e1af2151b64135003ce63c0a484c26b9b8b16...</td>\n",
       "      <td>268ad70eb5bc4737a2ae28162cbca30118cc94520e49ef...</td>\n",
       "      <td>5372372f3bf5896820cb2819300c3e681820d82c6efc54...</td>\n",
       "      <td>8d23a6e37e0a6431a8f1b43a91026dcff51170a89a6512...</td>\n",
       "    </tr>\n",
       "    <tr>\n",
       "      <th>2</th>\n",
       "      <td>2</td>\n",
       "      <td>c213697430c006013012dd2aca82dd9732aa0a1a6bca13...</td>\n",
       "      <td>Not responding</td>\n",
       "      <td>£121 - £180 Per Week</td>\n",
       "      <td>Full Year Course Stay 40 - 44 weeks</td>\n",
       "      <td>7aae3e886e89fc1187a5c47d6cea1c22998ee610ade1f2...</td>\n",
       "      <td>9b8cc3c63cdf447e463c11544924bf027945cbd29675f7...</td>\n",
       "      <td>e09e10e67812e9d236ad900e5d46b4308fc62f5d69446a...</td>\n",
       "      <td>bbdefa2950f49882f295b1285d4fa9dec45fc4144bfb07...</td>\n",
       "      <td>09076eb7665d1fb9389c7c4517fee0b00e43092eb34821...</td>\n",
       "      <td>11ab03a1a8c367191355c152f39fe28cae5e426fce49ef...</td>\n",
       "      <td>8d23a6e37e0a6431a8f1b43a91026dcff51170a89a6512...</td>\n",
       "    </tr>\n",
       "    <tr>\n",
       "      <th>3</th>\n",
       "      <td>3</td>\n",
       "      <td>eac9815a500f908736d303e23aa227f0957177b0e6756b...</td>\n",
       "      <td>Low budget</td>\n",
       "      <td>0-0</td>\n",
       "      <td>0</td>\n",
       "      <td>ba2d0a29556ac20f86f45e4543c0825428cba33fd7a9ea...</td>\n",
       "      <td>a5f0d2d08eb0592087e3a3a2f9c1ba2c67cc30f2efd2bd...</td>\n",
       "      <td>e09e10e67812e9d236ad900e5d46b4308fc62f5d69446a...</td>\n",
       "      <td>bbdefa2950f49882f295b1285d4fa9dec45fc4144bfb07...</td>\n",
       "      <td>09076eb7665d1fb9389c7c4517fee0b00e43092eb34821...</td>\n",
       "      <td>19372fa44c57a01c37a5a8418779ca3d99b0b59731fb35...</td>\n",
       "      <td>8d23a6e37e0a6431a8f1b43a91026dcff51170a89a6512...</td>\n",
       "    </tr>\n",
       "    <tr>\n",
       "      <th>4</th>\n",
       "      <td>4</td>\n",
       "      <td>1deba9e96f404694373de9749ddd1ca8aa7bb823145a6f...</td>\n",
       "      <td>Junk lead</td>\n",
       "      <td>NaN</td>\n",
       "      <td>NaN</td>\n",
       "      <td>NaN</td>\n",
       "      <td>NaN</td>\n",
       "      <td>NaN</td>\n",
       "      <td>3d59f7548e1af2151b64135003ce63c0a484c26b9b8b16...</td>\n",
       "      <td>268ad70eb5bc4737a2ae28162cbca30118cc94520e49ef...</td>\n",
       "      <td>NaN</td>\n",
       "      <td>NaN</td>\n",
       "    </tr>\n",
       "  </tbody>\n",
       "</table>\n",
       "</div>"
      ],
      "text/plain": [
       "   Unnamed: 0                                           Agent_id  \\\n",
       "0           0  1deba9e96f404694373de9749ddd1ca8aa7bb823145a6f...   \n",
       "1           1  299ae77a4ef350ae0dd37d6bba1c002d03444fb1edb236...   \n",
       "2           2  c213697430c006013012dd2aca82dd9732aa0a1a6bca13...   \n",
       "3           3  eac9815a500f908736d303e23aa227f0957177b0e6756b...   \n",
       "4           4  1deba9e96f404694373de9749ddd1ca8aa7bb823145a6f...   \n",
       "\n",
       "      lost_reason                budget                                lease  \\\n",
       "0  Not responding                   NaN                                  NaN   \n",
       "1      Low budget                   NaN                                  NaN   \n",
       "2  Not responding  £121 - £180 Per Week  Full Year Course Stay 40 - 44 weeks   \n",
       "3      Low budget                   0-0                                    0   \n",
       "4       Junk lead                   NaN                                  NaN   \n",
       "\n",
       "                                              source  \\\n",
       "0                                                NaN   \n",
       "1                                                NaN   \n",
       "2  7aae3e886e89fc1187a5c47d6cea1c22998ee610ade1f2...   \n",
       "3  ba2d0a29556ac20f86f45e4543c0825428cba33fd7a9ea...   \n",
       "4                                                NaN   \n",
       "\n",
       "                                         source_city  \\\n",
       "0                                                NaN   \n",
       "1                                                NaN   \n",
       "2  9b8cc3c63cdf447e463c11544924bf027945cbd29675f7...   \n",
       "3  a5f0d2d08eb0592087e3a3a2f9c1ba2c67cc30f2efd2bd...   \n",
       "4                                                NaN   \n",
       "\n",
       "                                      source_country  \\\n",
       "0                                                NaN   \n",
       "1                                                NaN   \n",
       "2  e09e10e67812e9d236ad900e5d46b4308fc62f5d69446a...   \n",
       "3  e09e10e67812e9d236ad900e5d46b4308fc62f5d69446a...   \n",
       "4                                                NaN   \n",
       "\n",
       "                                          utm_source  \\\n",
       "0  3d59f7548e1af2151b64135003ce63c0a484c26b9b8b16...   \n",
       "1  3d59f7548e1af2151b64135003ce63c0a484c26b9b8b16...   \n",
       "2  bbdefa2950f49882f295b1285d4fa9dec45fc4144bfb07...   \n",
       "3  bbdefa2950f49882f295b1285d4fa9dec45fc4144bfb07...   \n",
       "4  3d59f7548e1af2151b64135003ce63c0a484c26b9b8b16...   \n",
       "\n",
       "                                          utm_medium  \\\n",
       "0  268ad70eb5bc4737a2ae28162cbca30118cc94520e49ef...   \n",
       "1  268ad70eb5bc4737a2ae28162cbca30118cc94520e49ef...   \n",
       "2  09076eb7665d1fb9389c7c4517fee0b00e43092eb34821...   \n",
       "3  09076eb7665d1fb9389c7c4517fee0b00e43092eb34821...   \n",
       "4  268ad70eb5bc4737a2ae28162cbca30118cc94520e49ef...   \n",
       "\n",
       "                                            des_city  \\\n",
       "0  ecc0e7dc084f141b29479058967d0bc07dee25d9690a98...   \n",
       "1  5372372f3bf5896820cb2819300c3e681820d82c6efc54...   \n",
       "2  11ab03a1a8c367191355c152f39fe28cae5e426fce49ef...   \n",
       "3  19372fa44c57a01c37a5a8418779ca3d99b0b59731fb35...   \n",
       "4                                                NaN   \n",
       "\n",
       "                                         des_country  \n",
       "0  8d23a6e37e0a6431a8f1b43a91026dcff51170a89a6512...  \n",
       "1  8d23a6e37e0a6431a8f1b43a91026dcff51170a89a6512...  \n",
       "2  8d23a6e37e0a6431a8f1b43a91026dcff51170a89a6512...  \n",
       "3  8d23a6e37e0a6431a8f1b43a91026dcff51170a89a6512...  \n",
       "4                                                NaN  "
      ]
     },
     "execution_count": 171,
     "metadata": {},
     "output_type": "execute_result"
    }
   ],
   "source": [
    "# Putting feature variable to X\n",
    "X = v.drop(['lead_id','status'], axis=1)\n",
    "# Putting response variable to y\n",
    "y = v['status']\n",
    "\n",
    "print(y)\n",
    "\n",
    "X.head()"
   ]
  },
  {
   "cell_type": "code",
   "execution_count": 172,
   "id": "ca1566dd",
   "metadata": {},
   "outputs": [],
   "source": [
    "# Splitting the data into train and test\n",
    "\n",
    "X_train, X_test, y_train, y_test = train_test_split(X, y, train_size=0.7, test_size=0.3, random_state=100)"
   ]
  },
  {
   "cell_type": "code",
   "execution_count": 173,
   "id": "b604f4d9",
   "metadata": {},
   "outputs": [
    {
     "ename": "ValueError",
     "evalue": "could not convert string to float: '£241 - £300 Per week'",
     "output_type": "error",
     "traceback": [
      "\u001b[1;31m---------------------------------------------------------------------------\u001b[0m",
      "\u001b[1;31mValueError\u001b[0m                                Traceback (most recent call last)",
      "Input \u001b[1;32mIn [173]\u001b[0m, in \u001b[0;36m<cell line: 3>\u001b[1;34m()\u001b[0m\n\u001b[0;32m      1\u001b[0m scaler \u001b[38;5;241m=\u001b[39m StandardScaler()\n\u001b[1;32m----> 3\u001b[0m X_train[[\u001b[38;5;124m'\u001b[39m\u001b[38;5;124mbudget\u001b[39m\u001b[38;5;124m'\u001b[39m,\u001b[38;5;124m'\u001b[39m\u001b[38;5;124mlease\u001b[39m\u001b[38;5;124m'\u001b[39m]] \u001b[38;5;241m=\u001b[39m \u001b[43mscaler\u001b[49m\u001b[38;5;241;43m.\u001b[39;49m\u001b[43mfit_transform\u001b[49m\u001b[43m(\u001b[49m\u001b[43mX_train\u001b[49m\u001b[43m[\u001b[49m\u001b[43m[\u001b[49m\u001b[38;5;124;43m'\u001b[39;49m\u001b[38;5;124;43mbudget\u001b[39;49m\u001b[38;5;124;43m'\u001b[39;49m\u001b[43m,\u001b[49m\u001b[38;5;124;43m'\u001b[39;49m\u001b[38;5;124;43mlease\u001b[39;49m\u001b[38;5;124;43m'\u001b[39;49m\u001b[43m]\u001b[49m\u001b[43m]\u001b[49m\u001b[43m)\u001b[49m\n\u001b[0;32m      5\u001b[0m X_train\u001b[38;5;241m.\u001b[39mhead()\n",
      "File \u001b[1;32mc:\\users\\hp\\appdata\\local\\programs\\python\\python39\\lib\\site-packages\\sklearn\\base.py:867\u001b[0m, in \u001b[0;36mTransformerMixin.fit_transform\u001b[1;34m(self, X, y, **fit_params)\u001b[0m\n\u001b[0;32m    863\u001b[0m \u001b[38;5;66;03m# non-optimized default implementation; override when a better\u001b[39;00m\n\u001b[0;32m    864\u001b[0m \u001b[38;5;66;03m# method is possible for a given clustering algorithm\u001b[39;00m\n\u001b[0;32m    865\u001b[0m \u001b[38;5;28;01mif\u001b[39;00m y \u001b[38;5;129;01mis\u001b[39;00m \u001b[38;5;28;01mNone\u001b[39;00m:\n\u001b[0;32m    866\u001b[0m     \u001b[38;5;66;03m# fit method of arity 1 (unsupervised transformation)\u001b[39;00m\n\u001b[1;32m--> 867\u001b[0m     \u001b[38;5;28;01mreturn\u001b[39;00m \u001b[38;5;28mself\u001b[39m\u001b[38;5;241m.\u001b[39mfit(X, \u001b[38;5;241m*\u001b[39m\u001b[38;5;241m*\u001b[39mfit_params)\u001b[38;5;241m.\u001b[39mtransform(X)\n\u001b[0;32m    868\u001b[0m \u001b[38;5;28;01melse\u001b[39;00m:\n\u001b[0;32m    869\u001b[0m     \u001b[38;5;66;03m# fit method of arity 2 (supervised transformation)\u001b[39;00m\n\u001b[0;32m    870\u001b[0m     \u001b[38;5;28;01mreturn\u001b[39;00m \u001b[38;5;28mself\u001b[39m\u001b[38;5;241m.\u001b[39mfit(X, y, \u001b[38;5;241m*\u001b[39m\u001b[38;5;241m*\u001b[39mfit_params)\u001b[38;5;241m.\u001b[39mtransform(X)\n",
      "File \u001b[1;32mc:\\users\\hp\\appdata\\local\\programs\\python\\python39\\lib\\site-packages\\sklearn\\preprocessing\\_data.py:809\u001b[0m, in \u001b[0;36mStandardScaler.fit\u001b[1;34m(self, X, y, sample_weight)\u001b[0m\n\u001b[0;32m    807\u001b[0m \u001b[38;5;66;03m# Reset internal state before fitting\u001b[39;00m\n\u001b[0;32m    808\u001b[0m \u001b[38;5;28mself\u001b[39m\u001b[38;5;241m.\u001b[39m_reset()\n\u001b[1;32m--> 809\u001b[0m \u001b[38;5;28;01mreturn\u001b[39;00m \u001b[38;5;28;43mself\u001b[39;49m\u001b[38;5;241;43m.\u001b[39;49m\u001b[43mpartial_fit\u001b[49m\u001b[43m(\u001b[49m\u001b[43mX\u001b[49m\u001b[43m,\u001b[49m\u001b[43m \u001b[49m\u001b[43my\u001b[49m\u001b[43m,\u001b[49m\u001b[43m \u001b[49m\u001b[43msample_weight\u001b[49m\u001b[43m)\u001b[49m\n",
      "File \u001b[1;32mc:\\users\\hp\\appdata\\local\\programs\\python\\python39\\lib\\site-packages\\sklearn\\preprocessing\\_data.py:844\u001b[0m, in \u001b[0;36mStandardScaler.partial_fit\u001b[1;34m(self, X, y, sample_weight)\u001b[0m\n\u001b[0;32m    812\u001b[0m \u001b[38;5;124;03m\"\"\"Online computation of mean and std on X for later scaling.\u001b[39;00m\n\u001b[0;32m    813\u001b[0m \n\u001b[0;32m    814\u001b[0m \u001b[38;5;124;03mAll of X is processed as a single batch. This is intended for cases\u001b[39;00m\n\u001b[1;32m   (...)\u001b[0m\n\u001b[0;32m    841\u001b[0m \u001b[38;5;124;03m    Fitted scaler.\u001b[39;00m\n\u001b[0;32m    842\u001b[0m \u001b[38;5;124;03m\"\"\"\u001b[39;00m\n\u001b[0;32m    843\u001b[0m first_call \u001b[38;5;241m=\u001b[39m \u001b[38;5;129;01mnot\u001b[39;00m \u001b[38;5;28mhasattr\u001b[39m(\u001b[38;5;28mself\u001b[39m, \u001b[38;5;124m\"\u001b[39m\u001b[38;5;124mn_samples_seen_\u001b[39m\u001b[38;5;124m\"\u001b[39m)\n\u001b[1;32m--> 844\u001b[0m X \u001b[38;5;241m=\u001b[39m \u001b[38;5;28;43mself\u001b[39;49m\u001b[38;5;241;43m.\u001b[39;49m\u001b[43m_validate_data\u001b[49m\u001b[43m(\u001b[49m\n\u001b[0;32m    845\u001b[0m \u001b[43m    \u001b[49m\u001b[43mX\u001b[49m\u001b[43m,\u001b[49m\n\u001b[0;32m    846\u001b[0m \u001b[43m    \u001b[49m\u001b[43maccept_sparse\u001b[49m\u001b[38;5;241;43m=\u001b[39;49m\u001b[43m(\u001b[49m\u001b[38;5;124;43m\"\u001b[39;49m\u001b[38;5;124;43mcsr\u001b[39;49m\u001b[38;5;124;43m\"\u001b[39;49m\u001b[43m,\u001b[49m\u001b[43m \u001b[49m\u001b[38;5;124;43m\"\u001b[39;49m\u001b[38;5;124;43mcsc\u001b[39;49m\u001b[38;5;124;43m\"\u001b[39;49m\u001b[43m)\u001b[49m\u001b[43m,\u001b[49m\n\u001b[0;32m    847\u001b[0m \u001b[43m    \u001b[49m\u001b[43mdtype\u001b[49m\u001b[38;5;241;43m=\u001b[39;49m\u001b[43mFLOAT_DTYPES\u001b[49m\u001b[43m,\u001b[49m\n\u001b[0;32m    848\u001b[0m \u001b[43m    \u001b[49m\u001b[43mforce_all_finite\u001b[49m\u001b[38;5;241;43m=\u001b[39;49m\u001b[38;5;124;43m\"\u001b[39;49m\u001b[38;5;124;43mallow-nan\u001b[39;49m\u001b[38;5;124;43m\"\u001b[39;49m\u001b[43m,\u001b[49m\n\u001b[0;32m    849\u001b[0m \u001b[43m    \u001b[49m\u001b[43mreset\u001b[49m\u001b[38;5;241;43m=\u001b[39;49m\u001b[43mfirst_call\u001b[49m\u001b[43m,\u001b[49m\n\u001b[0;32m    850\u001b[0m \u001b[43m\u001b[49m\u001b[43m)\u001b[49m\n\u001b[0;32m    851\u001b[0m n_features \u001b[38;5;241m=\u001b[39m X\u001b[38;5;241m.\u001b[39mshape[\u001b[38;5;241m1\u001b[39m]\n\u001b[0;32m    853\u001b[0m \u001b[38;5;28;01mif\u001b[39;00m sample_weight \u001b[38;5;129;01mis\u001b[39;00m \u001b[38;5;129;01mnot\u001b[39;00m \u001b[38;5;28;01mNone\u001b[39;00m:\n",
      "File \u001b[1;32mc:\\users\\hp\\appdata\\local\\programs\\python\\python39\\lib\\site-packages\\sklearn\\base.py:577\u001b[0m, in \u001b[0;36mBaseEstimator._validate_data\u001b[1;34m(self, X, y, reset, validate_separately, **check_params)\u001b[0m\n\u001b[0;32m    575\u001b[0m     \u001b[38;5;28;01mraise\u001b[39;00m \u001b[38;5;167;01mValueError\u001b[39;00m(\u001b[38;5;124m\"\u001b[39m\u001b[38;5;124mValidation should be done on X, y or both.\u001b[39m\u001b[38;5;124m\"\u001b[39m)\n\u001b[0;32m    576\u001b[0m \u001b[38;5;28;01melif\u001b[39;00m \u001b[38;5;129;01mnot\u001b[39;00m no_val_X \u001b[38;5;129;01mand\u001b[39;00m no_val_y:\n\u001b[1;32m--> 577\u001b[0m     X \u001b[38;5;241m=\u001b[39m check_array(X, input_name\u001b[38;5;241m=\u001b[39m\u001b[38;5;124m\"\u001b[39m\u001b[38;5;124mX\u001b[39m\u001b[38;5;124m\"\u001b[39m, \u001b[38;5;241m*\u001b[39m\u001b[38;5;241m*\u001b[39mcheck_params)\n\u001b[0;32m    578\u001b[0m     out \u001b[38;5;241m=\u001b[39m X\n\u001b[0;32m    579\u001b[0m \u001b[38;5;28;01melif\u001b[39;00m no_val_X \u001b[38;5;129;01mand\u001b[39;00m \u001b[38;5;129;01mnot\u001b[39;00m no_val_y:\n",
      "File \u001b[1;32mc:\\users\\hp\\appdata\\local\\programs\\python\\python39\\lib\\site-packages\\sklearn\\utils\\validation.py:856\u001b[0m, in \u001b[0;36mcheck_array\u001b[1;34m(array, accept_sparse, accept_large_sparse, dtype, order, copy, force_all_finite, ensure_2d, allow_nd, ensure_min_samples, ensure_min_features, estimator, input_name)\u001b[0m\n\u001b[0;32m    854\u001b[0m         array \u001b[38;5;241m=\u001b[39m array\u001b[38;5;241m.\u001b[39mastype(dtype, casting\u001b[38;5;241m=\u001b[39m\u001b[38;5;124m\"\u001b[39m\u001b[38;5;124munsafe\u001b[39m\u001b[38;5;124m\"\u001b[39m, copy\u001b[38;5;241m=\u001b[39m\u001b[38;5;28;01mFalse\u001b[39;00m)\n\u001b[0;32m    855\u001b[0m     \u001b[38;5;28;01melse\u001b[39;00m:\n\u001b[1;32m--> 856\u001b[0m         array \u001b[38;5;241m=\u001b[39m \u001b[43mnp\u001b[49m\u001b[38;5;241;43m.\u001b[39;49m\u001b[43masarray\u001b[49m\u001b[43m(\u001b[49m\u001b[43marray\u001b[49m\u001b[43m,\u001b[49m\u001b[43m \u001b[49m\u001b[43morder\u001b[49m\u001b[38;5;241;43m=\u001b[39;49m\u001b[43morder\u001b[49m\u001b[43m,\u001b[49m\u001b[43m \u001b[49m\u001b[43mdtype\u001b[49m\u001b[38;5;241;43m=\u001b[39;49m\u001b[43mdtype\u001b[49m\u001b[43m)\u001b[49m\n\u001b[0;32m    857\u001b[0m \u001b[38;5;28;01mexcept\u001b[39;00m ComplexWarning \u001b[38;5;28;01mas\u001b[39;00m complex_warning:\n\u001b[0;32m    858\u001b[0m     \u001b[38;5;28;01mraise\u001b[39;00m \u001b[38;5;167;01mValueError\u001b[39;00m(\n\u001b[0;32m    859\u001b[0m         \u001b[38;5;124m\"\u001b[39m\u001b[38;5;124mComplex data not supported\u001b[39m\u001b[38;5;130;01m\\n\u001b[39;00m\u001b[38;5;132;01m{}\u001b[39;00m\u001b[38;5;130;01m\\n\u001b[39;00m\u001b[38;5;124m\"\u001b[39m\u001b[38;5;241m.\u001b[39mformat(array)\n\u001b[0;32m    860\u001b[0m     ) \u001b[38;5;28;01mfrom\u001b[39;00m \u001b[38;5;21;01mcomplex_warning\u001b[39;00m\n",
      "File \u001b[1;32mc:\\users\\hp\\appdata\\local\\programs\\python\\python39\\lib\\site-packages\\pandas\\core\\generic.py:2064\u001b[0m, in \u001b[0;36mNDFrame.__array__\u001b[1;34m(self, dtype)\u001b[0m\n\u001b[0;32m   2063\u001b[0m \u001b[38;5;28;01mdef\u001b[39;00m \u001b[38;5;21m__array__\u001b[39m(\u001b[38;5;28mself\u001b[39m, dtype: npt\u001b[38;5;241m.\u001b[39mDTypeLike \u001b[38;5;241m|\u001b[39m \u001b[38;5;28;01mNone\u001b[39;00m \u001b[38;5;241m=\u001b[39m \u001b[38;5;28;01mNone\u001b[39;00m) \u001b[38;5;241m-\u001b[39m\u001b[38;5;241m>\u001b[39m np\u001b[38;5;241m.\u001b[39mndarray:\n\u001b[1;32m-> 2064\u001b[0m     \u001b[38;5;28;01mreturn\u001b[39;00m \u001b[43mnp\u001b[49m\u001b[38;5;241;43m.\u001b[39;49m\u001b[43masarray\u001b[49m\u001b[43m(\u001b[49m\u001b[38;5;28;43mself\u001b[39;49m\u001b[38;5;241;43m.\u001b[39;49m\u001b[43m_values\u001b[49m\u001b[43m,\u001b[49m\u001b[43m \u001b[49m\u001b[43mdtype\u001b[49m\u001b[38;5;241;43m=\u001b[39;49m\u001b[43mdtype\u001b[49m\u001b[43m)\u001b[49m\n",
      "\u001b[1;31mValueError\u001b[0m: could not convert string to float: '£241 - £300 Per week'"
     ]
    }
   ],
   "source": [
    "scaler = StandardScaler()\n",
    "\n",
    "X_train[['budget','lease']] = scaler.fit_transform(X_train[['budget','lease']])\n",
    "\n",
    "X_train.head()"
   ]
  },
  {
   "cell_type": "code",
   "execution_count": 176,
   "id": "f82f9c43",
   "metadata": {},
   "outputs": [
    {
     "data": {
      "text/plain": [
       "Series([], dtype: float64)"
      ]
     },
     "execution_count": 176,
     "metadata": {},
     "output_type": "execute_result"
    }
   ],
   "source": [
    "# Correlation between different numerical variables for both the Converted and not-converted cases\n",
    "conv_corr = v.corr()\n",
    "\n",
    "# Unstacking the correlation matrix to find out top correlations\n",
    "conv_corr_unstacked = conv_corr.unstack().sort_values(kind=\"quicksort\")\n",
    "conv_corr.where(np.triu(np.ones(conv_corr.shape), k=1).astype(np.bool)).stack().sort_values(ascending=False).head(10)"
   ]
  },
  {
   "cell_type": "markdown",
   "id": "ed1cf0e2",
   "metadata": {},
   "source": [
    "# Model Building"
   ]
  },
  {
   "cell_type": "code",
   "execution_count": 177,
   "id": "d13b008e",
   "metadata": {},
   "outputs": [
    {
     "ename": "ValueError",
     "evalue": "Pandas data cast to numpy dtype of object. Check input data with np.asarray(data). The types seen wereNone and const             float64\nUnnamed: 0          int64\nAgent_id           object\nlost_reason        object\nbudget             object\nlease              object\nsource             object\nsource_city        object\nsource_country     object\nutm_source         object\nutm_medium         object\ndes_city           object\ndes_country        object\ndtype: object. The data was\n43527    LOST\n33863    LOST\n13602     WON\n38891    LOST\n44728    LOST\n         ... \n16392    LOST\n79       LOST\n12180    LOST\n14224    LOST\n38638     WON\nName: status, Length: 32421, dtype: object\nand\n        const  Unnamed: 0                                           Agent_id  \\\n43527    1.0       43527  ff614a1caf92ad2900b6dc8287175f32ed48afcfee68ae...   \n33863    1.0       33863  44864c96fa1c36602f0d045b268981b6cab638a60fc207...   \n13602    1.0       13602  f11a7d64cc0201a4ba1e60e00992d074dc6c46680bb7be...   \n38891    1.0       38891  2fca346db656187102ce806ac732e06a62df0dbb2829e5...   \n44728    1.0       44728  c077ad291c7b691b8defba867c1b937f16e878c1f3bdd5...   \n...      ...         ...                                                ...   \n16392    1.0       16392  2e18e12a751bac813306282d514103385d31398bdbb35d...   \n79       1.0          79  fb3e2c0015ad5bcd60d7619ca575a56c15c5d2cd3f01f1...   \n12180    1.0       12180  fb3e2c0015ad5bcd60d7619ca575a56c15c5d2cd3f01f1...   \n14224    1.0       14224  2fca346db656187102ce806ac732e06a62df0dbb2829e5...   \n38638    1.0       38638  fb3e2c0015ad5bcd60d7619ca575a56c15c5d2cd3f01f1...   \n\n            lost_reason                budget  \\\n43527    Not responding  £241 - £300 Per week   \n33863    Just Enquiring   £60 - £120 Per week   \n13602               NaN   £60 - £120 Per week   \n38891  Low availability                   180   \n44728    Not responding   £60 - £120 Per week   \n...                 ...                   ...   \n16392        Short stay                   308   \n79       Not interested                   175   \n12180      Supply issue   £60 - £120 Per week   \n14224  Low availability                   0-0   \n38638               NaN                   160   \n\n                                            lease  \\\n43527  Complete Education Year Stay 50 - 52 weeks   \n33863         Full Year Course Stay 40 - 44 weeks   \n13602  Complete Education Year Stay 50 - 52 weeks   \n38891                            full-course-stay   \n44728              Summer/Short Stay 8 - 12 weeks   \n...                                           ...   \n16392                                          51   \n79                                             51   \n12180         Full Year Course Stay 40 - 44 weeks   \n14224                                           0   \n38638                                          44   \n\n                                                  source  \\\n43527  7aae3e886e89fc1187a5c47d6cea1c22998ee610ade1f2...   \n33863  7aae3e886e89fc1187a5c47d6cea1c22998ee610ade1f2...   \n13602  7aae3e886e89fc1187a5c47d6cea1c22998ee610ade1f2...   \n38891  7bcfca0e9d73371699b0adbf1c691e02108fa64f02f4db...   \n44728  7aae3e886e89fc1187a5c47d6cea1c22998ee610ade1f2...   \n...                                                  ...   \n16392  9ba9134a91cfc6b52ac8d480e9ad37896ca4ac216e2d79...   \n79                                                   NaN   \n12180  7aae3e886e89fc1187a5c47d6cea1c22998ee610ade1f2...   \n14224  ba2d0a29556ac20f86f45e4543c0825428cba33fd7a9ea...   \n38638  7aae3e886e89fc1187a5c47d6cea1c22998ee610ade1f2...   \n\n                                             source_city  \\\n43527  2ab8f487a0ac857ad748f80c87b5c777aba77d50e23cb8...   \n33863  8ce79da91b54d28a69963ebaeaad102d57cd65a9dcdb4c...   \n13602  23dd7cc42d2685018857b1dffe76ce9c7867542b0303ce...   \n38891  860ac618e84042526889b02c3ed1ce9199744aff12d0fa...   \n44728  b2586a6cef5690b74e9fb425f95f8fb3f1e18a4cdc3225...   \n...                                                  ...   \n16392  6649d1dda96bdc032e4e89c2a0ce555d6902c7f2151d0c...   \n79                                                   NaN   \n12180  66604e8e12ce442e70536b476b64c97eb1c93bdb96eebc...   \n14224  2bbfde08fcd758e12995f1b57b5ba1e66181fcc081e26c...   \n38638  e509e9f3fb8f1e6b3cee0b3e924eb6e533928aeca83653...   \n\n                                          source_country  \\\n43527  e09e10e67812e9d236ad900e5d46b4308fc62f5d69446a...   \n33863  054cc4501cf9b311905ae2a8fbaccbd93c87eb9038b6a2...   \n13602  19a8d134581ecdd7c2cc20f5908014bd4c28e425a28ca7...   \n38891  e09e10e67812e9d236ad900e5d46b4308fc62f5d69446a...   \n44728  e09e10e67812e9d236ad900e5d46b4308fc62f5d69446a...   \n...                                                  ...   \n16392  cf3a9ac98c81ec1643e418e9647543cff130e4dc0b0b1f...   \n79                                                   NaN   \n12180  8da82000ef9c4468ba47362a924b895e40662fed846942...   \n14224  e09e10e67812e9d236ad900e5d46b4308fc62f5d69446a...   \n38638  e09e10e67812e9d236ad900e5d46b4308fc62f5d69446a...   \n\n                                              utm_source  \\\n43527  bbdefa2950f49882f295b1285d4fa9dec45fc4144bfb07...   \n33863  bbdefa2950f49882f295b1285d4fa9dec45fc4144bfb07...   \n13602  bbdefa2950f49882f295b1285d4fa9dec45fc4144bfb07...   \n38891  bbdefa2950f49882f295b1285d4fa9dec45fc4144bfb07...   \n44728  bbdefa2950f49882f295b1285d4fa9dec45fc4144bfb07...   \n...                                                  ...   \n16392  d15690f08a575024650b01ffac892cfd2b93e6c57c140f...   \n79     3d59f7548e1af2151b64135003ce63c0a484c26b9b8b16...   \n12180  bbdefa2950f49882f295b1285d4fa9dec45fc4144bfb07...   \n14224  bbdefa2950f49882f295b1285d4fa9dec45fc4144bfb07...   \n38638  bbdefa2950f49882f295b1285d4fa9dec45fc4144bfb07...   \n\n                                              utm_medium  \\\n43527  09076eb7665d1fb9389c7c4517fee0b00e43092eb34821...   \n33863  09076eb7665d1fb9389c7c4517fee0b00e43092eb34821...   \n13602  09076eb7665d1fb9389c7c4517fee0b00e43092eb34821...   \n38891  09076eb7665d1fb9389c7c4517fee0b00e43092eb34821...   \n44728  09076eb7665d1fb9389c7c4517fee0b00e43092eb34821...   \n...                                                  ...   \n16392                                                NaN   \n79     4ed379d418bb86290a01117e9ceb0debffc4d1b7087db6...   \n12180  09076eb7665d1fb9389c7c4517fee0b00e43092eb34821...   \n14224  09076eb7665d1fb9389c7c4517fee0b00e43092eb34821...   \n38638  09076eb7665d1fb9389c7c4517fee0b00e43092eb34821...   \n\n                                                des_city  \\\n43527  2baa70fa96081bf1c4c7319e7af4bed170348d9c6821b4...   \n33863  e34eb721eceb4f46181760c2f9b23b551419a518be82e6...   \n13602  b2586a6cef5690b74e9fb425f95f8fb3f1e18a4cdc3225...   \n38891  5e02dadaa7e4cd29809e2f8a115f1e5e9c01b29813a1fb...   \n44728  b2586a6cef5690b74e9fb425f95f8fb3f1e18a4cdc3225...   \n...                                                  ...   \n16392  ecc0e7dc084f141b29479058967d0bc07dee25d9690a98...   \n79     ecc0e7dc084f141b29479058967d0bc07dee25d9690a98...   \n12180  ecc0e7dc084f141b29479058967d0bc07dee25d9690a98...   \n14224  9edff2628ff7385bffbe7fc9cae89010d2cb9182e805e1...   \n38638  8593b9db65212160979d946950601c26622a219c80f1f1...   \n\n                                             des_country  \n43527  8d23a6e37e0a6431a8f1b43a91026dcff51170a89a6512...  \n33863  8d23a6e37e0a6431a8f1b43a91026dcff51170a89a6512...  \n13602  8d23a6e37e0a6431a8f1b43a91026dcff51170a89a6512...  \n38891  8d23a6e37e0a6431a8f1b43a91026dcff51170a89a6512...  \n44728  8d23a6e37e0a6431a8f1b43a91026dcff51170a89a6512...  \n...                                                  ...  \n16392  8d23a6e37e0a6431a8f1b43a91026dcff51170a89a6512...  \n79     8d23a6e37e0a6431a8f1b43a91026dcff51170a89a6512...  \n12180  8d23a6e37e0a6431a8f1b43a91026dcff51170a89a6512...  \n14224  8d23a6e37e0a6431a8f1b43a91026dcff51170a89a6512...  \n38638  8d23a6e37e0a6431a8f1b43a91026dcff51170a89a6512...  \n\n[32421 rows x 13 columns]\nbefore. After,\n['LOST' 'LOST' 'WON' ... 'LOST' 'LOST' 'WON']\n[[1.0 43527\n  'ff614a1caf92ad2900b6dc8287175f32ed48afcfee68ae03b32b2ee5a8291849' ...\n  '09076eb7665d1fb9389c7c4517fee0b00e43092eb34821b09b5730c41ebcc50c'\n  '2baa70fa96081bf1c4c7319e7af4bed170348d9c6821b4db2888d716967550b7'\n  '8d23a6e37e0a6431a8f1b43a91026dcff51170a89a6512ff098eaa56a4d5fb19']\n [1.0 33863\n  '44864c96fa1c36602f0d045b268981b6cab638a60fc207c89e3bba235f619450' ...\n  '09076eb7665d1fb9389c7c4517fee0b00e43092eb34821b09b5730c41ebcc50c'\n  'e34eb721eceb4f46181760c2f9b23b551419a518be82e693b9387b8496a9b98b'\n  '8d23a6e37e0a6431a8f1b43a91026dcff51170a89a6512ff098eaa56a4d5fb19']\n [1.0 13602\n  'f11a7d64cc0201a4ba1e60e00992d074dc6c46680bb7be196073d26e53e45bf1' ...\n  '09076eb7665d1fb9389c7c4517fee0b00e43092eb34821b09b5730c41ebcc50c'\n  'b2586a6cef5690b74e9fb425f95f8fb3f1e18a4cdc3225eb2f53534ec3602aee'\n  '8d23a6e37e0a6431a8f1b43a91026dcff51170a89a6512ff098eaa56a4d5fb19']\n ...\n [1.0 12180\n  'fb3e2c0015ad5bcd60d7619ca575a56c15c5d2cd3f01f18e68c4dfaeee585db5' ...\n  '09076eb7665d1fb9389c7c4517fee0b00e43092eb34821b09b5730c41ebcc50c'\n  'ecc0e7dc084f141b29479058967d0bc07dee25d9690a98ee4e6fdad5168274d7'\n  '8d23a6e37e0a6431a8f1b43a91026dcff51170a89a6512ff098eaa56a4d5fb19']\n [1.0 14224\n  '2fca346db656187102ce806ac732e06a62df0dbb2829e511a770556d398e1a6e' ...\n  '09076eb7665d1fb9389c7c4517fee0b00e43092eb34821b09b5730c41ebcc50c'\n  '9edff2628ff7385bffbe7fc9cae89010d2cb9182e805e146de99e99cd4dfce61'\n  '8d23a6e37e0a6431a8f1b43a91026dcff51170a89a6512ff098eaa56a4d5fb19']\n [1.0 38638\n  'fb3e2c0015ad5bcd60d7619ca575a56c15c5d2cd3f01f18e68c4dfaeee585db5' ...\n  '09076eb7665d1fb9389c7c4517fee0b00e43092eb34821b09b5730c41ebcc50c'\n  '8593b9db65212160979d946950601c26622a219c80f1f122679eb69ec5b96600'\n  '8d23a6e37e0a6431a8f1b43a91026dcff51170a89a6512ff098eaa56a4d5fb19']].",
     "output_type": "error",
     "traceback": [
      "\u001b[1;31m---------------------------------------------------------------------------\u001b[0m",
      "\u001b[1;31mValueError\u001b[0m                                Traceback (most recent call last)",
      "Input \u001b[1;32mIn [177]\u001b[0m, in \u001b[0;36m<cell line: 3>\u001b[1;34m()\u001b[0m\n\u001b[0;32m      1\u001b[0m \u001b[38;5;66;03m# Logistic regression model\u001b[39;00m\n\u001b[1;32m----> 3\u001b[0m logm1 \u001b[38;5;241m=\u001b[39m \u001b[43msm\u001b[49m\u001b[38;5;241;43m.\u001b[39;49m\u001b[43mGLM\u001b[49m\u001b[43m(\u001b[49m\u001b[43my_train\u001b[49m\u001b[43m,\u001b[49m\u001b[43m(\u001b[49m\u001b[43msm\u001b[49m\u001b[38;5;241;43m.\u001b[39;49m\u001b[43madd_constant\u001b[49m\u001b[43m(\u001b[49m\u001b[43mX_train\u001b[49m\u001b[43m)\u001b[49m\u001b[43m)\u001b[49m\u001b[43m,\u001b[49m\u001b[43m \u001b[49m\u001b[43mfamily\u001b[49m\u001b[43m \u001b[49m\u001b[38;5;241;43m=\u001b[39;49m\u001b[43m \u001b[49m\u001b[43msm\u001b[49m\u001b[38;5;241;43m.\u001b[39;49m\u001b[43mfamilies\u001b[49m\u001b[38;5;241;43m.\u001b[39;49m\u001b[43mBinomial\u001b[49m\u001b[43m(\u001b[49m\u001b[43m)\u001b[49m\u001b[43m)\u001b[49m\n\u001b[0;32m      4\u001b[0m logm1\u001b[38;5;241m.\u001b[39mfit()\u001b[38;5;241m.\u001b[39msummary()\n",
      "File \u001b[1;32mc:\\users\\hp\\appdata\\local\\programs\\python\\python39\\lib\\site-packages\\statsmodels\\genmod\\generalized_linear_model.py:316\u001b[0m, in \u001b[0;36mGLM.__init__\u001b[1;34m(self, endog, exog, family, offset, exposure, freq_weights, var_weights, missing, **kwargs)\u001b[0m\n\u001b[0;32m    313\u001b[0m \u001b[38;5;28mself\u001b[39m\u001b[38;5;241m.\u001b[39mfreq_weights \u001b[38;5;241m=\u001b[39m freq_weights\n\u001b[0;32m    314\u001b[0m \u001b[38;5;28mself\u001b[39m\u001b[38;5;241m.\u001b[39mvar_weights \u001b[38;5;241m=\u001b[39m var_weights\n\u001b[1;32m--> 316\u001b[0m \u001b[38;5;28msuper\u001b[39m(GLM, \u001b[38;5;28mself\u001b[39m)\u001b[38;5;241m.\u001b[39m\u001b[38;5;21m__init__\u001b[39m(endog, exog, missing\u001b[38;5;241m=\u001b[39mmissing,\n\u001b[0;32m    317\u001b[0m                           offset\u001b[38;5;241m=\u001b[39moffset, exposure\u001b[38;5;241m=\u001b[39mexposure,\n\u001b[0;32m    318\u001b[0m                           freq_weights\u001b[38;5;241m=\u001b[39mfreq_weights,\n\u001b[0;32m    319\u001b[0m                           var_weights\u001b[38;5;241m=\u001b[39mvar_weights, \u001b[38;5;241m*\u001b[39m\u001b[38;5;241m*\u001b[39mkwargs)\n\u001b[0;32m    320\u001b[0m \u001b[38;5;28mself\u001b[39m\u001b[38;5;241m.\u001b[39m_check_inputs(family, \u001b[38;5;28mself\u001b[39m\u001b[38;5;241m.\u001b[39moffset, \u001b[38;5;28mself\u001b[39m\u001b[38;5;241m.\u001b[39mexposure, \u001b[38;5;28mself\u001b[39m\u001b[38;5;241m.\u001b[39mendog,\n\u001b[0;32m    321\u001b[0m                    \u001b[38;5;28mself\u001b[39m\u001b[38;5;241m.\u001b[39mfreq_weights, \u001b[38;5;28mself\u001b[39m\u001b[38;5;241m.\u001b[39mvar_weights)\n\u001b[0;32m    322\u001b[0m \u001b[38;5;28;01mif\u001b[39;00m offset \u001b[38;5;129;01mis\u001b[39;00m \u001b[38;5;28;01mNone\u001b[39;00m:\n",
      "File \u001b[1;32mc:\\users\\hp\\appdata\\local\\programs\\python\\python39\\lib\\site-packages\\statsmodels\\base\\model.py:267\u001b[0m, in \u001b[0;36mLikelihoodModel.__init__\u001b[1;34m(self, endog, exog, **kwargs)\u001b[0m\n\u001b[0;32m    266\u001b[0m \u001b[38;5;28;01mdef\u001b[39;00m \u001b[38;5;21m__init__\u001b[39m(\u001b[38;5;28mself\u001b[39m, endog, exog\u001b[38;5;241m=\u001b[39m\u001b[38;5;28;01mNone\u001b[39;00m, \u001b[38;5;241m*\u001b[39m\u001b[38;5;241m*\u001b[39mkwargs):\n\u001b[1;32m--> 267\u001b[0m     \u001b[38;5;28msuper\u001b[39m()\u001b[38;5;241m.\u001b[39m\u001b[38;5;21m__init__\u001b[39m(endog, exog, \u001b[38;5;241m*\u001b[39m\u001b[38;5;241m*\u001b[39mkwargs)\n\u001b[0;32m    268\u001b[0m     \u001b[38;5;28mself\u001b[39m\u001b[38;5;241m.\u001b[39minitialize()\n",
      "File \u001b[1;32mc:\\users\\hp\\appdata\\local\\programs\\python\\python39\\lib\\site-packages\\statsmodels\\base\\model.py:92\u001b[0m, in \u001b[0;36mModel.__init__\u001b[1;34m(self, endog, exog, **kwargs)\u001b[0m\n\u001b[0;32m     90\u001b[0m missing \u001b[38;5;241m=\u001b[39m kwargs\u001b[38;5;241m.\u001b[39mpop(\u001b[38;5;124m'\u001b[39m\u001b[38;5;124mmissing\u001b[39m\u001b[38;5;124m'\u001b[39m, \u001b[38;5;124m'\u001b[39m\u001b[38;5;124mnone\u001b[39m\u001b[38;5;124m'\u001b[39m)\n\u001b[0;32m     91\u001b[0m hasconst \u001b[38;5;241m=\u001b[39m kwargs\u001b[38;5;241m.\u001b[39mpop(\u001b[38;5;124m'\u001b[39m\u001b[38;5;124mhasconst\u001b[39m\u001b[38;5;124m'\u001b[39m, \u001b[38;5;28;01mNone\u001b[39;00m)\n\u001b[1;32m---> 92\u001b[0m \u001b[38;5;28mself\u001b[39m\u001b[38;5;241m.\u001b[39mdata \u001b[38;5;241m=\u001b[39m \u001b[38;5;28mself\u001b[39m\u001b[38;5;241m.\u001b[39m_handle_data(endog, exog, missing, hasconst,\n\u001b[0;32m     93\u001b[0m                               \u001b[38;5;241m*\u001b[39m\u001b[38;5;241m*\u001b[39mkwargs)\n\u001b[0;32m     94\u001b[0m \u001b[38;5;28mself\u001b[39m\u001b[38;5;241m.\u001b[39mk_constant \u001b[38;5;241m=\u001b[39m \u001b[38;5;28mself\u001b[39m\u001b[38;5;241m.\u001b[39mdata\u001b[38;5;241m.\u001b[39mk_constant\n\u001b[0;32m     95\u001b[0m \u001b[38;5;28mself\u001b[39m\u001b[38;5;241m.\u001b[39mexog \u001b[38;5;241m=\u001b[39m \u001b[38;5;28mself\u001b[39m\u001b[38;5;241m.\u001b[39mdata\u001b[38;5;241m.\u001b[39mexog\n",
      "File \u001b[1;32mc:\\users\\hp\\appdata\\local\\programs\\python\\python39\\lib\\site-packages\\statsmodels\\base\\model.py:132\u001b[0m, in \u001b[0;36mModel._handle_data\u001b[1;34m(self, endog, exog, missing, hasconst, **kwargs)\u001b[0m\n\u001b[0;32m    131\u001b[0m \u001b[38;5;28;01mdef\u001b[39;00m \u001b[38;5;21m_handle_data\u001b[39m(\u001b[38;5;28mself\u001b[39m, endog, exog, missing, hasconst, \u001b[38;5;241m*\u001b[39m\u001b[38;5;241m*\u001b[39mkwargs):\n\u001b[1;32m--> 132\u001b[0m     data \u001b[38;5;241m=\u001b[39m handle_data(endog, exog, missing, hasconst, \u001b[38;5;241m*\u001b[39m\u001b[38;5;241m*\u001b[39mkwargs)\n\u001b[0;32m    133\u001b[0m     \u001b[38;5;66;03m# kwargs arrays could have changed, easier to just attach here\u001b[39;00m\n\u001b[0;32m    134\u001b[0m     \u001b[38;5;28;01mfor\u001b[39;00m key \u001b[38;5;129;01min\u001b[39;00m kwargs:\n",
      "File \u001b[1;32mc:\\users\\hp\\appdata\\local\\programs\\python\\python39\\lib\\site-packages\\statsmodels\\base\\data.py:700\u001b[0m, in \u001b[0;36mhandle_data\u001b[1;34m(endog, exog, missing, hasconst, **kwargs)\u001b[0m\n\u001b[0;32m    697\u001b[0m     exog \u001b[38;5;241m=\u001b[39m np\u001b[38;5;241m.\u001b[39masarray(exog)\n\u001b[0;32m    699\u001b[0m klass \u001b[38;5;241m=\u001b[39m handle_data_class_factory(endog, exog)\n\u001b[1;32m--> 700\u001b[0m \u001b[38;5;28;01mreturn\u001b[39;00m klass(endog, exog\u001b[38;5;241m=\u001b[39mexog, missing\u001b[38;5;241m=\u001b[39mmissing, hasconst\u001b[38;5;241m=\u001b[39mhasconst,\n\u001b[0;32m    701\u001b[0m              \u001b[38;5;241m*\u001b[39m\u001b[38;5;241m*\u001b[39mkwargs)\n",
      "File \u001b[1;32mc:\\users\\hp\\appdata\\local\\programs\\python\\python39\\lib\\site-packages\\statsmodels\\base\\data.py:84\u001b[0m, in \u001b[0;36mModelData.__init__\u001b[1;34m(self, endog, exog, missing, hasconst, **kwargs)\u001b[0m\n\u001b[0;32m     82\u001b[0m     \u001b[38;5;28mself\u001b[39m\u001b[38;5;241m.\u001b[39morig_endog \u001b[38;5;241m=\u001b[39m endog\n\u001b[0;32m     83\u001b[0m     \u001b[38;5;28mself\u001b[39m\u001b[38;5;241m.\u001b[39morig_exog \u001b[38;5;241m=\u001b[39m exog\n\u001b[1;32m---> 84\u001b[0m     \u001b[38;5;28mself\u001b[39m\u001b[38;5;241m.\u001b[39mendog, \u001b[38;5;28mself\u001b[39m\u001b[38;5;241m.\u001b[39mexog \u001b[38;5;241m=\u001b[39m \u001b[38;5;28;43mself\u001b[39;49m\u001b[38;5;241;43m.\u001b[39;49m\u001b[43m_convert_endog_exog\u001b[49m\u001b[43m(\u001b[49m\u001b[43mendog\u001b[49m\u001b[43m,\u001b[49m\u001b[43m \u001b[49m\u001b[43mexog\u001b[49m\u001b[43m)\u001b[49m\n\u001b[0;32m     86\u001b[0m \u001b[38;5;28mself\u001b[39m\u001b[38;5;241m.\u001b[39mconst_idx \u001b[38;5;241m=\u001b[39m \u001b[38;5;28;01mNone\u001b[39;00m\n\u001b[0;32m     87\u001b[0m \u001b[38;5;28mself\u001b[39m\u001b[38;5;241m.\u001b[39mk_constant \u001b[38;5;241m=\u001b[39m \u001b[38;5;241m0\u001b[39m\n",
      "File \u001b[1;32mc:\\users\\hp\\appdata\\local\\programs\\python\\python39\\lib\\site-packages\\statsmodels\\base\\data.py:530\u001b[0m, in \u001b[0;36mPandasData._convert_endog_exog\u001b[1;34m(self, endog, exog)\u001b[0m\n\u001b[0;32m    528\u001b[0m     \u001b[38;5;28;01melse\u001b[39;00m:\n\u001b[0;32m    529\u001b[0m         exog_dtype \u001b[38;5;241m=\u001b[39m \u001b[38;5;28;01mNone\u001b[39;00m\n\u001b[1;32m--> 530\u001b[0m     \u001b[38;5;28;01mraise\u001b[39;00m \u001b[38;5;167;01mValueError\u001b[39;00m(\n\u001b[0;32m    531\u001b[0m         \u001b[38;5;124m\"\u001b[39m\u001b[38;5;124mPandas data cast to numpy dtype of object. Check input data \u001b[39m\u001b[38;5;124m\"\u001b[39m\n\u001b[0;32m    532\u001b[0m         \u001b[38;5;124m\"\u001b[39m\u001b[38;5;124mwith np.asarray(data). The types seen were\u001b[39m\u001b[38;5;124m\"\u001b[39m\n\u001b[0;32m    533\u001b[0m         \u001b[38;5;124mf\u001b[39m\u001b[38;5;124m\"\u001b[39m\u001b[38;5;132;01m{\u001b[39;00mendog_dtype\u001b[38;5;132;01m}\u001b[39;00m\u001b[38;5;124m and \u001b[39m\u001b[38;5;132;01m{\u001b[39;00mexog_dtype\u001b[38;5;132;01m}\u001b[39;00m\u001b[38;5;124m. The data was\u001b[39m\u001b[38;5;130;01m\\n\u001b[39;00m\u001b[38;5;124m\"\u001b[39m\n\u001b[0;32m    534\u001b[0m         \u001b[38;5;124mf\u001b[39m\u001b[38;5;124m\"\u001b[39m\u001b[38;5;132;01m{\u001b[39;00morig_endog\u001b[38;5;132;01m}\u001b[39;00m\u001b[38;5;130;01m\\n\u001b[39;00m\u001b[38;5;124mand\u001b[39m\u001b[38;5;130;01m\\n\u001b[39;00m\u001b[38;5;124m \u001b[39m\u001b[38;5;132;01m{\u001b[39;00morig_exog\u001b[38;5;132;01m}\u001b[39;00m\u001b[38;5;130;01m\\n\u001b[39;00m\u001b[38;5;124mbefore. After,\u001b[39m\u001b[38;5;130;01m\\n\u001b[39;00m\u001b[38;5;132;01m{\u001b[39;00mendog\u001b[38;5;132;01m}\u001b[39;00m\u001b[38;5;130;01m\\n\u001b[39;00m\u001b[38;5;132;01m{\u001b[39;00mexog\u001b[38;5;132;01m}\u001b[39;00m\u001b[38;5;124m.\u001b[39m\u001b[38;5;124m\"\u001b[39m\n\u001b[0;32m    535\u001b[0m     )\n\u001b[0;32m    536\u001b[0m \u001b[38;5;28;01mreturn\u001b[39;00m \u001b[38;5;28msuper\u001b[39m(PandasData, \u001b[38;5;28mself\u001b[39m)\u001b[38;5;241m.\u001b[39m_convert_endog_exog(endog, exog)\n",
      "\u001b[1;31mValueError\u001b[0m: Pandas data cast to numpy dtype of object. Check input data with np.asarray(data). The types seen wereNone and const             float64\nUnnamed: 0          int64\nAgent_id           object\nlost_reason        object\nbudget             object\nlease              object\nsource             object\nsource_city        object\nsource_country     object\nutm_source         object\nutm_medium         object\ndes_city           object\ndes_country        object\ndtype: object. The data was\n43527    LOST\n33863    LOST\n13602     WON\n38891    LOST\n44728    LOST\n         ... \n16392    LOST\n79       LOST\n12180    LOST\n14224    LOST\n38638     WON\nName: status, Length: 32421, dtype: object\nand\n        const  Unnamed: 0                                           Agent_id  \\\n43527    1.0       43527  ff614a1caf92ad2900b6dc8287175f32ed48afcfee68ae...   \n33863    1.0       33863  44864c96fa1c36602f0d045b268981b6cab638a60fc207...   \n13602    1.0       13602  f11a7d64cc0201a4ba1e60e00992d074dc6c46680bb7be...   \n38891    1.0       38891  2fca346db656187102ce806ac732e06a62df0dbb2829e5...   \n44728    1.0       44728  c077ad291c7b691b8defba867c1b937f16e878c1f3bdd5...   \n...      ...         ...                                                ...   \n16392    1.0       16392  2e18e12a751bac813306282d514103385d31398bdbb35d...   \n79       1.0          79  fb3e2c0015ad5bcd60d7619ca575a56c15c5d2cd3f01f1...   \n12180    1.0       12180  fb3e2c0015ad5bcd60d7619ca575a56c15c5d2cd3f01f1...   \n14224    1.0       14224  2fca346db656187102ce806ac732e06a62df0dbb2829e5...   \n38638    1.0       38638  fb3e2c0015ad5bcd60d7619ca575a56c15c5d2cd3f01f1...   \n\n            lost_reason                budget  \\\n43527    Not responding  £241 - £300 Per week   \n33863    Just Enquiring   £60 - £120 Per week   \n13602               NaN   £60 - £120 Per week   \n38891  Low availability                   180   \n44728    Not responding   £60 - £120 Per week   \n...                 ...                   ...   \n16392        Short stay                   308   \n79       Not interested                   175   \n12180      Supply issue   £60 - £120 Per week   \n14224  Low availability                   0-0   \n38638               NaN                   160   \n\n                                            lease  \\\n43527  Complete Education Year Stay 50 - 52 weeks   \n33863         Full Year Course Stay 40 - 44 weeks   \n13602  Complete Education Year Stay 50 - 52 weeks   \n38891                            full-course-stay   \n44728              Summer/Short Stay 8 - 12 weeks   \n...                                           ...   \n16392                                          51   \n79                                             51   \n12180         Full Year Course Stay 40 - 44 weeks   \n14224                                           0   \n38638                                          44   \n\n                                                  source  \\\n43527  7aae3e886e89fc1187a5c47d6cea1c22998ee610ade1f2...   \n33863  7aae3e886e89fc1187a5c47d6cea1c22998ee610ade1f2...   \n13602  7aae3e886e89fc1187a5c47d6cea1c22998ee610ade1f2...   \n38891  7bcfca0e9d73371699b0adbf1c691e02108fa64f02f4db...   \n44728  7aae3e886e89fc1187a5c47d6cea1c22998ee610ade1f2...   \n...                                                  ...   \n16392  9ba9134a91cfc6b52ac8d480e9ad37896ca4ac216e2d79...   \n79                                                   NaN   \n12180  7aae3e886e89fc1187a5c47d6cea1c22998ee610ade1f2...   \n14224  ba2d0a29556ac20f86f45e4543c0825428cba33fd7a9ea...   \n38638  7aae3e886e89fc1187a5c47d6cea1c22998ee610ade1f2...   \n\n                                             source_city  \\\n43527  2ab8f487a0ac857ad748f80c87b5c777aba77d50e23cb8...   \n33863  8ce79da91b54d28a69963ebaeaad102d57cd65a9dcdb4c...   \n13602  23dd7cc42d2685018857b1dffe76ce9c7867542b0303ce...   \n38891  860ac618e84042526889b02c3ed1ce9199744aff12d0fa...   \n44728  b2586a6cef5690b74e9fb425f95f8fb3f1e18a4cdc3225...   \n...                                                  ...   \n16392  6649d1dda96bdc032e4e89c2a0ce555d6902c7f2151d0c...   \n79                                                   NaN   \n12180  66604e8e12ce442e70536b476b64c97eb1c93bdb96eebc...   \n14224  2bbfde08fcd758e12995f1b57b5ba1e66181fcc081e26c...   \n38638  e509e9f3fb8f1e6b3cee0b3e924eb6e533928aeca83653...   \n\n                                          source_country  \\\n43527  e09e10e67812e9d236ad900e5d46b4308fc62f5d69446a...   \n33863  054cc4501cf9b311905ae2a8fbaccbd93c87eb9038b6a2...   \n13602  19a8d134581ecdd7c2cc20f5908014bd4c28e425a28ca7...   \n38891  e09e10e67812e9d236ad900e5d46b4308fc62f5d69446a...   \n44728  e09e10e67812e9d236ad900e5d46b4308fc62f5d69446a...   \n...                                                  ...   \n16392  cf3a9ac98c81ec1643e418e9647543cff130e4dc0b0b1f...   \n79                                                   NaN   \n12180  8da82000ef9c4468ba47362a924b895e40662fed846942...   \n14224  e09e10e67812e9d236ad900e5d46b4308fc62f5d69446a...   \n38638  e09e10e67812e9d236ad900e5d46b4308fc62f5d69446a...   \n\n                                              utm_source  \\\n43527  bbdefa2950f49882f295b1285d4fa9dec45fc4144bfb07...   \n33863  bbdefa2950f49882f295b1285d4fa9dec45fc4144bfb07...   \n13602  bbdefa2950f49882f295b1285d4fa9dec45fc4144bfb07...   \n38891  bbdefa2950f49882f295b1285d4fa9dec45fc4144bfb07...   \n44728  bbdefa2950f49882f295b1285d4fa9dec45fc4144bfb07...   \n...                                                  ...   \n16392  d15690f08a575024650b01ffac892cfd2b93e6c57c140f...   \n79     3d59f7548e1af2151b64135003ce63c0a484c26b9b8b16...   \n12180  bbdefa2950f49882f295b1285d4fa9dec45fc4144bfb07...   \n14224  bbdefa2950f49882f295b1285d4fa9dec45fc4144bfb07...   \n38638  bbdefa2950f49882f295b1285d4fa9dec45fc4144bfb07...   \n\n                                              utm_medium  \\\n43527  09076eb7665d1fb9389c7c4517fee0b00e43092eb34821...   \n33863  09076eb7665d1fb9389c7c4517fee0b00e43092eb34821...   \n13602  09076eb7665d1fb9389c7c4517fee0b00e43092eb34821...   \n38891  09076eb7665d1fb9389c7c4517fee0b00e43092eb34821...   \n44728  09076eb7665d1fb9389c7c4517fee0b00e43092eb34821...   \n...                                                  ...   \n16392                                                NaN   \n79     4ed379d418bb86290a01117e9ceb0debffc4d1b7087db6...   \n12180  09076eb7665d1fb9389c7c4517fee0b00e43092eb34821...   \n14224  09076eb7665d1fb9389c7c4517fee0b00e43092eb34821...   \n38638  09076eb7665d1fb9389c7c4517fee0b00e43092eb34821...   \n\n                                                des_city  \\\n43527  2baa70fa96081bf1c4c7319e7af4bed170348d9c6821b4...   \n33863  e34eb721eceb4f46181760c2f9b23b551419a518be82e6...   \n13602  b2586a6cef5690b74e9fb425f95f8fb3f1e18a4cdc3225...   \n38891  5e02dadaa7e4cd29809e2f8a115f1e5e9c01b29813a1fb...   \n44728  b2586a6cef5690b74e9fb425f95f8fb3f1e18a4cdc3225...   \n...                                                  ...   \n16392  ecc0e7dc084f141b29479058967d0bc07dee25d9690a98...   \n79     ecc0e7dc084f141b29479058967d0bc07dee25d9690a98...   \n12180  ecc0e7dc084f141b29479058967d0bc07dee25d9690a98...   \n14224  9edff2628ff7385bffbe7fc9cae89010d2cb9182e805e1...   \n38638  8593b9db65212160979d946950601c26622a219c80f1f1...   \n\n                                             des_country  \n43527  8d23a6e37e0a6431a8f1b43a91026dcff51170a89a6512...  \n33863  8d23a6e37e0a6431a8f1b43a91026dcff51170a89a6512...  \n13602  8d23a6e37e0a6431a8f1b43a91026dcff51170a89a6512...  \n38891  8d23a6e37e0a6431a8f1b43a91026dcff51170a89a6512...  \n44728  8d23a6e37e0a6431a8f1b43a91026dcff51170a89a6512...  \n...                                                  ...  \n16392  8d23a6e37e0a6431a8f1b43a91026dcff51170a89a6512...  \n79     8d23a6e37e0a6431a8f1b43a91026dcff51170a89a6512...  \n12180  8d23a6e37e0a6431a8f1b43a91026dcff51170a89a6512...  \n14224  8d23a6e37e0a6431a8f1b43a91026dcff51170a89a6512...  \n38638  8d23a6e37e0a6431a8f1b43a91026dcff51170a89a6512...  \n\n[32421 rows x 13 columns]\nbefore. After,\n['LOST' 'LOST' 'WON' ... 'LOST' 'LOST' 'WON']\n[[1.0 43527\n  'ff614a1caf92ad2900b6dc8287175f32ed48afcfee68ae03b32b2ee5a8291849' ...\n  '09076eb7665d1fb9389c7c4517fee0b00e43092eb34821b09b5730c41ebcc50c'\n  '2baa70fa96081bf1c4c7319e7af4bed170348d9c6821b4db2888d716967550b7'\n  '8d23a6e37e0a6431a8f1b43a91026dcff51170a89a6512ff098eaa56a4d5fb19']\n [1.0 33863\n  '44864c96fa1c36602f0d045b268981b6cab638a60fc207c89e3bba235f619450' ...\n  '09076eb7665d1fb9389c7c4517fee0b00e43092eb34821b09b5730c41ebcc50c'\n  'e34eb721eceb4f46181760c2f9b23b551419a518be82e693b9387b8496a9b98b'\n  '8d23a6e37e0a6431a8f1b43a91026dcff51170a89a6512ff098eaa56a4d5fb19']\n [1.0 13602\n  'f11a7d64cc0201a4ba1e60e00992d074dc6c46680bb7be196073d26e53e45bf1' ...\n  '09076eb7665d1fb9389c7c4517fee0b00e43092eb34821b09b5730c41ebcc50c'\n  'b2586a6cef5690b74e9fb425f95f8fb3f1e18a4cdc3225eb2f53534ec3602aee'\n  '8d23a6e37e0a6431a8f1b43a91026dcff51170a89a6512ff098eaa56a4d5fb19']\n ...\n [1.0 12180\n  'fb3e2c0015ad5bcd60d7619ca575a56c15c5d2cd3f01f18e68c4dfaeee585db5' ...\n  '09076eb7665d1fb9389c7c4517fee0b00e43092eb34821b09b5730c41ebcc50c'\n  'ecc0e7dc084f141b29479058967d0bc07dee25d9690a98ee4e6fdad5168274d7'\n  '8d23a6e37e0a6431a8f1b43a91026dcff51170a89a6512ff098eaa56a4d5fb19']\n [1.0 14224\n  '2fca346db656187102ce806ac732e06a62df0dbb2829e511a770556d398e1a6e' ...\n  '09076eb7665d1fb9389c7c4517fee0b00e43092eb34821b09b5730c41ebcc50c'\n  '9edff2628ff7385bffbe7fc9cae89010d2cb9182e805e146de99e99cd4dfce61'\n  '8d23a6e37e0a6431a8f1b43a91026dcff51170a89a6512ff098eaa56a4d5fb19']\n [1.0 38638\n  'fb3e2c0015ad5bcd60d7619ca575a56c15c5d2cd3f01f18e68c4dfaeee585db5' ...\n  '09076eb7665d1fb9389c7c4517fee0b00e43092eb34821b09b5730c41ebcc50c'\n  '8593b9db65212160979d946950601c26622a219c80f1f122679eb69ec5b96600'\n  '8d23a6e37e0a6431a8f1b43a91026dcff51170a89a6512ff098eaa56a4d5fb19']]."
     ]
    }
   ],
   "source": [
    "# Logistic regression model\n",
    "\n",
    "logm1 = sm.GLM(y_train,(sm.add_constant(X_train)), family = sm.families.Binomial())\n",
    "logm1.fit().summary()"
   ]
  },
  {
   "cell_type": "code",
   "execution_count": 180,
   "id": "a94a7a01",
   "metadata": {},
   "outputs": [
    {
     "ename": "NameError",
     "evalue": "name 'col' is not defined",
     "output_type": "error",
     "traceback": [
      "\u001b[1;31m---------------------------------------------------------------------------\u001b[0m",
      "\u001b[1;31mNameError\u001b[0m                                 Traceback (most recent call last)",
      "Input \u001b[1;32mIn [180]\u001b[0m, in \u001b[0;36m<cell line: 1>\u001b[1;34m()\u001b[0m\n\u001b[1;32m----> 1\u001b[0m X_train_sm \u001b[38;5;241m=\u001b[39m sm\u001b[38;5;241m.\u001b[39madd_constant(X_train[\u001b[43mcol\u001b[49m])\n\u001b[0;32m      2\u001b[0m logm2 \u001b[38;5;241m=\u001b[39m sm\u001b[38;5;241m.\u001b[39mGLM(y_train,X_train_sm, family \u001b[38;5;241m=\u001b[39m sm\u001b[38;5;241m.\u001b[39mfamilies\u001b[38;5;241m.\u001b[39mBinomial())\n\u001b[0;32m      3\u001b[0m res \u001b[38;5;241m=\u001b[39m logm2\u001b[38;5;241m.\u001b[39mfit()\n",
      "\u001b[1;31mNameError\u001b[0m: name 'col' is not defined"
     ]
    }
   ],
   "source": [
    "X_train_sm = sm.add_constant(X_train[col])\n",
    "logm2 = sm.GLM(y_train,X_train_sm, family = sm.families.Binomial())\n",
    "res = logm2.fit()\n",
    "res.summary()"
   ]
  },
  {
   "cell_type": "code",
   "execution_count": 181,
   "id": "33d32b5a",
   "metadata": {},
   "outputs": [
    {
     "ename": "NameError",
     "evalue": "name 'res' is not defined",
     "output_type": "error",
     "traceback": [
      "\u001b[1;31m---------------------------------------------------------------------------\u001b[0m",
      "\u001b[1;31mNameError\u001b[0m                                 Traceback (most recent call last)",
      "Input \u001b[1;32mIn [181]\u001b[0m, in \u001b[0;36m<cell line: 2>\u001b[1;34m()\u001b[0m\n\u001b[0;32m      1\u001b[0m \u001b[38;5;66;03m# Getting the predicted values on the train set\u001b[39;00m\n\u001b[1;32m----> 2\u001b[0m y_train_pred \u001b[38;5;241m=\u001b[39m \u001b[43mres\u001b[49m\u001b[38;5;241m.\u001b[39mpredict(X_train_sm)\n\u001b[0;32m      3\u001b[0m y_train_pred[:\u001b[38;5;241m10\u001b[39m]\n",
      "\u001b[1;31mNameError\u001b[0m: name 'res' is not defined"
     ]
    }
   ],
   "source": [
    "# Getting the predicted values on the train set\n",
    "y_train_pred = res.predict(X_train_sm)\n",
    "y_train_pred[:10]"
   ]
  },
  {
   "cell_type": "code",
   "execution_count": null,
   "id": "4cae0a97",
   "metadata": {},
   "outputs": [],
   "source": []
  }
 ],
 "metadata": {
  "kernelspec": {
   "display_name": "Python 3 (ipykernel)",
   "language": "python",
   "name": "python3"
  },
  "language_info": {
   "codemirror_mode": {
    "name": "ipython",
    "version": 3
   },
   "file_extension": ".py",
   "mimetype": "text/x-python",
   "name": "python",
   "nbconvert_exporter": "python",
   "pygments_lexer": "ipython3",
   "version": "3.9.5"
  }
 },
 "nbformat": 4,
 "nbformat_minor": 5
}
